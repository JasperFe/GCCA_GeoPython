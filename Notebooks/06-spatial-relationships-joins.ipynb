{
 "cells": [
  {
   "cell_type": "markdown",
   "metadata": {},
   "source": [
    "<p><font size=\"6\"><b>Spatial relationships and joins</b></font></p>\n",
    "\n",
    "\n",
    "> *GCCA+ phase 2 - Geopyhton training*  \n",
    "> *June, 2023*\n",
    ">\n",
    "> *© 2023, Jasper Feyen  (<mailto:jasperfeyen@hotmail.com>)*\n",
    "---"
   ]
  },
  {
   "cell_type": "code",
   "execution_count": 1,
   "metadata": {},
   "outputs": [
    {
     "name": "stderr",
     "output_type": "stream",
     "text": [
      "C:\\Users\\jaspe\\AppData\\Local\\Temp\\ipykernel_17012\\3931799419.py:4: DeprecationWarning: Shapely 2.0 is installed, but because PyGEOS is also installed, GeoPandas still uses PyGEOS by default. However, starting with version 0.14, the default will switch to Shapely. To force to use Shapely 2.0 now, you can either uninstall PyGEOS or set the environment variable USE_PYGEOS=0. You can do this before starting the Python process, or in your code before importing geopandas:\n",
      "\n",
      "import os\n",
      "os.environ['USE_PYGEOS'] = '0'\n",
      "import geopandas\n",
      "\n",
      "In the next release, GeoPandas will switch to using Shapely by default, even if PyGEOS is installed. If you only have PyGEOS installed to get speed-ups, this switch should be smooth. However, if you are using PyGEOS directly (calling PyGEOS functions on geometries from GeoPandas), this will then stop working and you are encouraged to migrate from PyGEOS to Shapely 2.0 (https://shapely.readthedocs.io/en/latest/migration_pygeos.html).\n",
      "  import geopandas\n"
     ]
    }
   ],
   "source": [
    "%matplotlib inline\n",
    "\n",
    "import pandas as pd\n",
    "import geopandas"
   ]
  },
  {
   "cell_type": "code",
   "execution_count": 57,
   "metadata": {},
   "outputs": [],
   "source": [
    "countries = geopandas.read_file(\"data/ne_10m_admin_0_countries.zip\")\n",
    "cities = geopandas.read_file(\"data/ne_110m_populated_places.zip\")\n",
    "rivers = geopandas.read_file(\"data/ne_50m_rivers_lake_centerlines.zip\")"
   ]
  },
  {
   "cell_type": "markdown",
   "metadata": {},
   "source": [
    "## Spatial relationships\n",
    "\n",
    "An important aspect of geospatial data is that we can look at *spatial relationships*: how two spatial objects relate to each other (whether they overlap, intersect, contain, .. one another).\n",
    "\n",
    "The topological, set-theoretic relationships in GIS are typically based on the DE-9IM model. See https://en.wikipedia.org/wiki/Spatial_relation for more information.\n",
    "\n",
    "![](../img/TopologicSpatialRelarions2.png)\n",
    "(Image by [Krauss, CC BY-SA 3.0](https://en.wikipedia.org/wiki/Spatial_relation#/media/File:TopologicSpatialRelarions2.png))"
   ]
  },
  {
   "cell_type": "markdown",
   "metadata": {},
   "source": [
    "### Relationships between individual objects"
   ]
  },
  {
   "cell_type": "markdown",
   "metadata": {},
   "source": [
    "Let's first create some small toy spatial objects:\n",
    "\n",
    "A polygon <small>(note: we use `.item()` here to to extract the scalar geometry object from the GeoSeries of length 1)</small>:"
   ]
  },
  {
   "cell_type": "code",
   "execution_count": 60,
   "metadata": {},
   "outputs": [],
   "source": [
    "suriname = countries.loc[countries['name'] == 'Suriname', 'geometry'].item()"
   ]
  },
  {
   "cell_type": "markdown",
   "metadata": {},
   "source": [
    "Two points:"
   ]
  },
  {
   "cell_type": "code",
   "execution_count": 61,
   "metadata": {},
   "outputs": [],
   "source": [
    "paramaribo = cities.loc[cities['name'] == 'Paramaribo','geometry'].item()"
   ]
  },
  {
   "cell_type": "code",
   "execution_count": 62,
   "metadata": {},
   "outputs": [],
   "source": [
    "georgetown = cities.loc[cities['name'] == 'Georgetown', 'geometry'].item()"
   ]
  },
  {
   "cell_type": "markdown",
   "metadata": {},
   "source": [
    "And a linestring:"
   ]
  },
  {
   "cell_type": "code",
   "execution_count": 63,
   "metadata": {},
   "outputs": [],
   "source": [
    "from shapely.geometry import LineString\n",
    "line = LineString([paramaribo, georgetown])"
   ]
  },
  {
   "cell_type": "markdown",
   "metadata": {},
   "source": [
    "Let's visualize those 4 geometry objects together (I only put them in a GeoSeries to easily display them together with the geopandas `.plot()` method):"
   ]
  },
  {
   "cell_type": "code",
   "execution_count": 64,
   "metadata": {},
   "outputs": [
    {
     "data": {
      "text/plain": [
       "<AxesSubplot:>"
      ]
     },
     "execution_count": 64,
     "metadata": {},
     "output_type": "execute_result"
    },
    {
     "data": {
      "image/png": "[encoded data removed]",
      "text/plain": [
       "<Figure size 640x480 with 1 Axes>"
      ]
     },
     "metadata": {},
     "output_type": "display_data"
    }
   ],
   "source": [
    "geopandas.GeoSeries([suriname, paramaribo, georgetown, line]).plot(cmap='tab10')"
   ]
  },
  {
   "cell_type": "markdown",
   "metadata": {},
   "source": [
    "Paramaribo ligt uiteraard binnen Suriname. Dit is m.a.w. een spatiale relatie. Dit kunnen we ook gaan nagaan binnen geopandas:"
   ]
  },
  {
   "cell_type": "code",
   "execution_count": 65,
   "metadata": {},
   "outputs": [
    {
     "data": {
      "text/plain": [
       "True"
      ]
     },
     "execution_count": 65,
     "metadata": {},
     "output_type": "execute_result"
    }
   ],
   "source": [
    "paramaribo.within(suriname)"
   ]
  },
  {
   "cell_type": "markdown",
   "metadata": {},
   "source": [
    "En omgekeerd bevat Suriname de stad Paramaribo"
   ]
  },
  {
   "cell_type": "code",
   "execution_count": 66,
   "metadata": {},
   "outputs": [
    {
     "data": {
      "text/plain": [
       "True"
      ]
     },
     "execution_count": 66,
     "metadata": {},
     "output_type": "execute_result"
    }
   ],
   "source": [
    "suriname.contains(paramaribo)"
   ]
  },
  {
   "cell_type": "markdown",
   "metadata": {},
   "source": [
    "Georgetown ligt natuurlijk buiten Suriname:"
   ]
  },
  {
   "cell_type": "code",
   "execution_count": 67,
   "metadata": {},
   "outputs": [
    {
     "data": {
      "text/plain": [
       "False"
      ]
     },
     "execution_count": 67,
     "metadata": {},
     "output_type": "execute_result"
    }
   ],
   "source": [
    "suriname.contains(georgetown)"
   ]
  },
  {
   "cell_type": "code",
   "execution_count": 68,
   "metadata": {},
   "outputs": [
    {
     "data": {
      "text/plain": [
       "False"
      ]
     },
     "execution_count": 68,
     "metadata": {},
     "output_type": "execute_result"
    }
   ],
   "source": [
    "georgetown.within(suriname)"
   ]
  },
  {
   "cell_type": "markdown",
   "metadata": {},
   "source": [
    "De lijn tussen Paramaribo en Georgetown ligt gedeeltelijk binnen Suriname, maar niet volledig. Dit is een intersectie"
   ]
  },
  {
   "cell_type": "code",
   "execution_count": 69,
   "metadata": {},
   "outputs": [
    {
     "data": {
      "text/plain": [
       "False"
      ]
     },
     "execution_count": 69,
     "metadata": {},
     "output_type": "execute_result"
    }
   ],
   "source": [
    "suriname.contains(line)"
   ]
  },
  {
   "cell_type": "code",
   "execution_count": 70,
   "metadata": {},
   "outputs": [
    {
     "data": {
      "text/plain": [
       "True"
      ]
     },
     "execution_count": 70,
     "metadata": {},
     "output_type": "execute_result"
    }
   ],
   "source": [
    "line.intersects(suriname)"
   ]
  },
  {
   "cell_type": "markdown",
   "metadata": {
    "jupyter": {
     "source_hidden": true
    },
    "tags": []
   },
   "source": [
    "### Spatiale relaties en GeoDataFrames\n",
    "\n",
    "Deze simpele methodes die we met `shapely` geometries hebben uitgevoerd kunnen ook toegepast worden op volledige `GeoSeries` / `GeoDataFrame` objecten.\n",
    "\n",
    "Dit maakt het mogelijk om op een snelle manier dergelijke spatiale queries uit te voeren.\n",
    "\n",
    "Bijvoorbeeld, als we op zoek zijn naar alle landen waar Paramaribo zich in bevindt, kunnen we dus de volledige `countries` database doorzoeken, op basis van de Geometrie via `contains` .\n"
   ]
  },
  {
   "cell_type": "code",
   "execution_count": 71,
   "metadata": {},
   "outputs": [
    {
     "data": {
      "text/plain": [
       "0      False\n",
       "1      False\n",
       "2      False\n",
       "3      False\n",
       "4      False\n",
       "       ...  \n",
       "204    False\n",
       "205    False\n",
       "206    False\n",
       "207    False\n",
       "208    False\n",
       "Length: 209, dtype: bool"
      ]
     },
     "execution_count": 71,
     "metadata": {},
     "output_type": "execute_result"
    }
   ],
   "source": [
    "countries.contains(suriname)"
   ]
  },
  {
   "cell_type": "markdown",
   "metadata": {},
   "source": [
    "Het resultaat is een *Boolean* lijst, die weergeeft voor welke rijen in `countries` aan de spatiale relatie voldoet. We kunnen deze gebruiken om ook de landen met Paramaribo er uit te filteren."
   ]
  },
  {
   "cell_type": "code",
   "execution_count": 72,
   "metadata": {},
   "outputs": [
    {
     "data": {
      "text/html": [
       "<div>\n",
       "<style scoped>\n",
       "    .dataframe tbody tr th:only-of-type {\n",
       "        vertical-align: middle;\n",
       "    }\n",
       "\n",
       "    .dataframe tbody tr th {\n",
       "        vertical-align: top;\n",
       "    }\n",
       "\n",
       "    .dataframe thead th {\n",
       "        text-align: right;\n",
       "    }\n",
       "</style>\n",
       "<table border=\"1\" class=\"dataframe\">\n",
       "  <thead>\n",
       "    <tr style=\"text-align: right;\">\n",
       "      <th></th>\n",
       "      <th>name</th>\n",
       "      <th>iso_a3</th>\n",
       "      <th>pop_est</th>\n",
       "      <th>gdp_md_est</th>\n",
       "      <th>continent</th>\n",
       "      <th>geometry</th>\n",
       "    </tr>\n",
       "  </thead>\n",
       "  <tbody>\n",
       "    <tr>\n",
       "      <th>70</th>\n",
       "      <td>Suriname</td>\n",
       "      <td>SUR</td>\n",
       "      <td>581363.0</td>\n",
       "      <td>2715518</td>\n",
       "      <td>South America</td>\n",
       "      <td>POLYGON ((-56.48182 1.94161, -56.57486 1.90547...</td>\n",
       "    </tr>\n",
       "  </tbody>\n",
       "</table>\n",
       "</div>"
      ],
      "text/plain": [
       "        name iso_a3   pop_est  gdp_md_est      continent  \\\n",
       "70  Suriname    SUR  581363.0     2715518  South America   \n",
       "\n",
       "                                             geometry  \n",
       "70  POLYGON ((-56.48182 1.94161, -56.57486 1.90547...  "
      ]
     },
     "execution_count": 72,
     "metadata": {},
     "output_type": "execute_result"
    }
   ],
   "source": [
    "countries[countries.contains(suriname)]"
   ]
  },
  {
   "cell_type": "markdown",
   "metadata": {},
   "source": [
    "En inderdaad, Suriname is het enige land ter wereld met een stad die Paramaribo heet. Hoe toevallig!"
   ]
  },
  {
   "cell_type": "markdown",
   "metadata": {},
   "source": [
    "Verder kunnen we ook nagaan door welke landen een rivier stroomt. Hiervoor hebben we de rivieren-database ter beschikking"
   ]
  },
  {
   "cell_type": "code",
   "execution_count": 73,
   "metadata": {},
   "outputs": [],
   "source": [
    "amazon = rivers[rivers['name'] == 'Amazonas'].geometry.item()"
   ]
  },
  {
   "cell_type": "code",
   "execution_count": 75,
   "metadata": {},
   "outputs": [
    {
     "data": {
      "text/html": [
       "<div>\n",
       "<style scoped>\n",
       "    .dataframe tbody tr th:only-of-type {\n",
       "        vertical-align: middle;\n",
       "    }\n",
       "\n",
       "    .dataframe tbody tr th {\n",
       "        vertical-align: top;\n",
       "    }\n",
       "\n",
       "    .dataframe thead th {\n",
       "        text-align: right;\n",
       "    }\n",
       "</style>\n",
       "<table border=\"1\" class=\"dataframe\">\n",
       "  <thead>\n",
       "    <tr style=\"text-align: right;\">\n",
       "      <th></th>\n",
       "      <th>name</th>\n",
       "      <th>iso_a3</th>\n",
       "      <th>pop_est</th>\n",
       "      <th>gdp_md_est</th>\n",
       "      <th>continent</th>\n",
       "      <th>geometry</th>\n",
       "    </tr>\n",
       "  </thead>\n",
       "  <tbody>\n",
       "    <tr>\n",
       "      <th>101</th>\n",
       "      <td>Brazil</td>\n",
       "      <td>BRA</td>\n",
       "      <td>211049527.0</td>\n",
       "      <td>1839758</td>\n",
       "      <td>South America</td>\n",
       "      <td>MULTIPOLYGON (((-28.88329 -20.51873, -28.88048...</td>\n",
       "    </tr>\n",
       "    <tr>\n",
       "      <th>134</th>\n",
       "      <td>Peru</td>\n",
       "      <td>PER</td>\n",
       "      <td>32510453.0</td>\n",
       "      <td>226848</td>\n",
       "      <td>South America</td>\n",
       "      <td>MULTIPOLYGON (((-80.84297 -6.38161, -80.85543 ...</td>\n",
       "    </tr>\n",
       "    <tr>\n",
       "      <th>200</th>\n",
       "      <td>Colombia</td>\n",
       "      <td>COL</td>\n",
       "      <td>50339443.0</td>\n",
       "      <td>323615</td>\n",
       "      <td>South America</td>\n",
       "      <td>MULTIPOLYGON (((-81.61172 3.95897, -81.60143 3...</td>\n",
       "    </tr>\n",
       "  </tbody>\n",
       "</table>\n",
       "</div>"
      ],
      "text/plain": [
       "         name iso_a3      pop_est  gdp_md_est      continent  \\\n",
       "101    Brazil    BRA  211049527.0     1839758  South America   \n",
       "134      Peru    PER   32510453.0      226848  South America   \n",
       "200  Colombia    COL   50339443.0      323615  South America   \n",
       "\n",
       "                                              geometry  \n",
       "101  MULTIPOLYGON (((-28.88329 -20.51873, -28.88048...  \n",
       "134  MULTIPOLYGON (((-80.84297 -6.38161, -80.85543 ...  \n",
       "200  MULTIPOLYGON (((-81.61172 3.95897, -81.60143 3...  "
      ]
     },
     "execution_count": 75,
     "metadata": {},
     "output_type": "execute_result"
    }
   ],
   "source": [
    "countries[countries.crosses(amazon)]  # of .intersects"
   ]
  },
  {
   "cell_type": "markdown",
   "metadata": {},
   "source": [
    "<div class=\"alert alert-info\" style=\"font-size:120%\">\n",
    "\n",
    "**REFERENTIE**:\n",
    "\n",
    "Overzicht van de mogelijke functies om een spatiale relatie te bekijken (*spatial predicate functions*):\n",
    "\n",
    "* `equals`\n",
    "* `contains`\n",
    "* `crosses`\n",
    "* `disjoint`\n",
    "* `intersects`\n",
    "* `overlaps`\n",
    "* `touches`\n",
    "* `within`\n",
    "* `covers`\n",
    "* `covered_by`\n",
    "\n",
    "\n",
    "Zie ook https://shapely.readthedocs.io/en/stable/manual.html#predicates-and-relationships voor een overzicht van elk van deze mogelijkheden\n",
    "\n",
    "De wiki https://en.wikipedia.org/wiki/DE-9IM kan ook helpen bij de beschrijving van elk.\n",
    "\n",
    "</div>"
   ]
  },
  {
   "cell_type": "markdown",
   "metadata": {},
   "source": [
    "## OEFENINGEN!\n",
    "\n",
    "We zullen opnieuw te werk gaan met onze Mangrove-datasets. We lezen ze in, maar gaan ze ook onmiddellijk herprojecteren naar dezelfde CRS"
   ]
  },
  {
   "cell_type": "code",
   "execution_count": 76,
   "metadata": {},
   "outputs": [],
   "source": [
    "districten = geopandas.read_file(\"data/Suriname_districts.geojson\").to_crs(epsg=32621)\n",
    "plotdata = geopandas.read_file(\"data/mangrove_2022.gpkg\").to_crs(epsg=32621)"
   ]
  },
  {
   "cell_type": "markdown",
   "metadata": {},
   "source": [
    "<div class=\"alert alert-success\">\n",
    "\n",
    "**OEFENING 1: Mangrove educatiecentrum**\n",
    "\n",
    "Het Mangrove Educatiecentrum is een museum in Totness in het district Coronie in Suriname. Het educatiecentrum is een spinoff van een workshop over kustbescherming bij 's Lands Bosbeheer en werd opgezet om mensen bewuster te maken van het belang van de mangrovebossen.\n",
    "    \n",
    "De locatie van het educatiecentrum is: x = 573391.7 , y=650302.4\n",
    "\n",
    "* Maak een Shapely point object aan met de coordinaten van het Educatiecentrum en maak er een variabele `educatiecentrum` van. Print het resultaat\n",
    "* Bekijk of het educatiecentrum in het district Nickerie gelegen is (gegeven).\n",
    "* Ga na in welk district het centrum ligt:\n",
    "    * Maak een *boolean* mask (of filter) die weergeeft of het educatiecentrum wel (True) of niet (False) in elk district ligt\n",
    "    * Filter `districten` op basis van dit boolean\n",
    "\n",
    "<details><summary>Hints</summary>\n",
    "\n",
    "* De `Point` klasse is beschikbaar in de `shapely.geometry` submodule\n",
    "* Je kunt een punt toevoegen door een X en Y coordinaat in de `Point()` constructor te voeren.\n",
    "* Middels `within()` kun je nagaan of een object zich binnen een 2 object bevindt (used as `geometry1.within(geometry2)`).\n",
    "* Middels `contains()` kun je nagaan of een eerste geometry een 2e bevat (used as `geometry1.contains(geometry2)`).\n",
    "\n",
    "</details>\n",
    "\n",
    "</div>"
   ]
  },
  {
   "cell_type": "code",
   "execution_count": 93,
   "metadata": {},
   "outputs": [],
   "source": [
    "# Import the Point geometry\n",
    "from shapely.geometry import Point"
   ]
  },
  {
   "cell_type": "code",
   "execution_count": 94,
   "metadata": {
    "tags": [
     "nbtutor-solution"
    ]
   },
   "outputs": [],
   "source": [
    "# %load _solutions/05-spatial-relationships-1.py\n",
    "# Punt toevoegen\n",
    "educatiecentrum = Point(573391.7,650302.4)"
   ]
  },
  {
   "cell_type": "code",
   "execution_count": 95,
   "metadata": {},
   "outputs": [],
   "source": [
    "# Om Nickerie naar een polygoon te brengen (Polygon)\n",
    "district_nickerie = districten.loc[districten['DISTR_NAAM']=='Nickerie', 'geometry'].item()\n",
    "plot = plotdata.loc[plotdata['id_plot'] == '4_1', 'geometry'].item()"
   ]
  },
  {
   "cell_type": "code",
   "execution_count": 96,
   "metadata": {
    "tags": [
     "nbtutor-solution"
    ]
   },
   "outputs": [
    {
     "data": {
      "text/plain": [
       "False"
      ]
     },
     "execution_count": 96,
     "metadata": {},
     "output_type": "execute_result"
    }
   ],
   "source": [
    "# %load _solutions/05-spatial-relationships-2.py\n",
    "# Nagaan of educatiecentrum binnen Nickerie ligt\n",
    "educatiecentrum.within(district_nickerie)"
   ]
  },
  {
   "cell_type": "code",
   "execution_count": 98,
   "metadata": {
    "tags": [
     "nbtutor-solution"
    ]
   },
   "outputs": [
    {
     "data": {
      "text/html": [
       "<div>\n",
       "<style scoped>\n",
       "    .dataframe tbody tr th:only-of-type {\n",
       "        vertical-align: middle;\n",
       "    }\n",
       "\n",
       "    .dataframe tbody tr th {\n",
       "        vertical-align: top;\n",
       "    }\n",
       "\n",
       "    .dataframe thead th {\n",
       "        text-align: right;\n",
       "    }\n",
       "</style>\n",
       "<table border=\"1\" class=\"dataframe\">\n",
       "  <thead>\n",
       "    <tr style=\"text-align: right;\">\n",
       "      <th></th>\n",
       "      <th>DISTR_NAAM</th>\n",
       "      <th>geometry</th>\n",
       "    </tr>\n",
       "  </thead>\n",
       "  <tbody>\n",
       "    <tr>\n",
       "      <th>2</th>\n",
       "      <td>Coronie</td>\n",
       "      <td>MULTIPOLYGON (((590319.014 647925.000, 590343....</td>\n",
       "    </tr>\n",
       "  </tbody>\n",
       "</table>\n",
       "</div>"
      ],
      "text/plain": [
       "  DISTR_NAAM                                           geometry\n",
       "2    Coronie  MULTIPOLYGON (((590319.014 647925.000, 590343...."
      ]
     },
     "execution_count": 98,
     "metadata": {},
     "output_type": "execute_result"
    }
   ],
   "source": [
    "# %load _solutions/05-spatial-relationships-3.py"
   ]
  },
  {
   "cell_type": "code",
   "execution_count": null,
   "metadata": {},
   "outputs": [],
   "source": []
  },
  {
   "cell_type": "markdown",
   "metadata": {},
   "source": [
    "<div class=\"alert alert-success\">\n",
    "\n",
    "**OEFENING 2 - AFSTAND TOT DE DICHTSTE MANGROVEPLOT**\n",
    "\n",
    "Voor een excursie zijn geïnteresseerd in de mangrove inventarisplot dicht bij het educatiecentrum.\n",
    "    \n",
    "Om dit te bepalen kunnen we de (loodrechte) afstand van elke plot naar het educatiecentrum berekenen. Op basis van dit resultaat kunnen we een *mask* aanmaken die elke plot binnen een straal van 10km bevat. Hierbij krijgen we een `True` waarde als een plot binnen deze straal ligt en een `False` indien niet.\n",
    "\n",
    "* Bereken de afstand tussen elke mangrove plot en het educatiecentrum. Ken dit toe aan de variabele `dist_centrum`.\n",
    "* print de afstand tot het dichtstse station (wat is de minimum-waarde van `dist_centrum`?)\n",
    "* Selecteer the rijen van de `plotdata` GeoDataFrame waar de afstand tot het educatiecentrum minder dan 10 km is (opgelet, de afstand is berekend in meter). Het resultaat noem je `plots_centrum`.\n",
    "\n",
    "<details><summary>Hints</summary>\n",
    "* Om de afstand tussen 2 geometriën te bereknen maak je gebruik van `distance()` methode ( `geometry1.distance(geometry2)`).\n",
    "* De `.distance()` methode of werkt ]element-wise]: het wordt uitgevoerd voor elke geometrie binnen de GeoDataFrame.\n",
    "* Een Series heeft een `.min()` methode om het minimum te vinden\n",
    "* Om aan de 10km conditie te voldoen kunnen we een conditional gebruikten, bijvoorbeeld `distance < 10000`.\n",
    "\n",
    "</details>\n",
    "\n",
    "</div>"
   ]
  },
  {
   "cell_type": "code",
   "execution_count": 106,
   "metadata": {
    "tags": [
     "nbtutor-solution"
    ]
   },
   "outputs": [],
   "source": [
    "# %load _solutions/05-spatial-relationships-4.py\n",
    "# Berekenen van afstand plots - mangrovecentrum\n",
    "dist_centrum = plotdata.distance(educatiecentrum)"
   ]
  },
  {
   "cell_type": "code",
   "execution_count": 107,
   "metadata": {
    "tags": [
     "nbtutor-solution"
    ]
   },
   "outputs": [
    {
     "data": {
      "text/plain": [
       "6617.689525053224"
      ]
     },
     "execution_count": 107,
     "metadata": {},
     "output_type": "execute_result"
    }
   ],
   "source": [
    "# %load _solutions/05-spatial-relationships-5.py\n",
    "# kortste afstand\n",
    "dist_centrum.min()"
   ]
  },
  {
   "cell_type": "code",
   "execution_count": 113,
   "metadata": {
    "tags": [
     "nbtutor-solution"
    ]
   },
   "outputs": [
    {
     "name": "stdout",
     "output_type": "stream",
     "text": [
      "   id_plot SU  PSP  Avicennia_count  Rhizopora_count  Laguncularia_count  \\\n",
      "44     4_1  4    1            128.0              2.0                 0.0   \n",
      "45     4_2  4    2            172.0              0.0                 0.0   \n",
      "46     4_3  4    3            230.0              0.0                 0.0   \n",
      "47     4_4  4    4            201.0              0.0                 0.0   \n",
      "\n",
      "    OtherSpecies_count                       geometry  dist_centrum  \n",
      "44                 0.0  POINT (580000.000 649350.000)   6676.578064  \n",
      "45                 0.0  POINT (580000.000 649550.000)   6650.995012  \n",
      "46                 0.0  POINT (580000.000 649750.000)   6631.347876  \n",
      "47                 0.0  POINT (580000.000 649950.000)   6617.689525  \n"
     ]
    }
   ],
   "source": [
    "# %load _solutions/05-spatial-relationships-6.py"
   ]
  },
  {
   "cell_type": "code",
   "execution_count": 124,
   "metadata": {
    "collapsed": true,
    "jupyter": {
     "outputs_hidden": true
    },
    "tags": []
   },
   "outputs": [
    {
     "data": {
      "text/html": [
       "<div style=\"width:100%;\"><div style=\"position:relative;width:100%;height:0;padding-bottom:60%;\"><span style=\"color:#565656\">Make this Notebook Trusted to load map: File -> Trust Notebook</span><iframe srcdoc=\"&lt;!DOCTYPE html&gt;\n",
       "&lt;html&gt;\n",
       "&lt;head&gt;\n",
       "    \n",
       "    &lt;meta http-equiv=&quot;content-type&quot; content=&quot;text/html; charset=UTF-8&quot; /&gt;\n",
       "    \n",
       "        &lt;script&gt;\n",
       "            L_NO_TOUCH = false;\n",
       "            L_DISABLE_3D = false;\n",
       "        &lt;/script&gt;\n",
       "    \n",
       "    &lt;style&gt;html, body {width: 100%;height: 100%;margin: 0;padding: 0;}&lt;/style&gt;\n",
       "    &lt;style&gt;#map {position:absolute;top:0;bottom:0;right:0;left:0;}&lt;/style&gt;\n",
       "    &lt;script src=&quot;https://cdn.jsdelivr.net/npm/leaflet@1.9.3/dist/leaflet.js&quot;&gt;&lt;/script&gt;\n",
       "    &lt;script src=&quot;https://code.jquery.com/jquery-1.12.4.min.js&quot;&gt;&lt;/script&gt;\n",
       "    &lt;script src=&quot;https://cdn.jsdelivr.net/npm/bootstrap@5.2.2/dist/js/bootstrap.bundle.min.js&quot;&gt;&lt;/script&gt;\n",
       "    &lt;script src=&quot;https://cdnjs.cloudflare.com/ajax/libs/Leaflet.awesome-markers/2.0.2/leaflet.awesome-markers.js&quot;&gt;&lt;/script&gt;\n",
       "    &lt;link rel=&quot;stylesheet&quot; href=&quot;https://cdn.jsdelivr.net/npm/leaflet@1.9.3/dist/leaflet.css&quot;/&gt;\n",
       "    &lt;link rel=&quot;stylesheet&quot; href=&quot;https://cdn.jsdelivr.net/npm/bootstrap@5.2.2/dist/css/bootstrap.min.css&quot;/&gt;\n",
       "    &lt;link rel=&quot;stylesheet&quot; href=&quot;https://netdna.bootstrapcdn.com/bootstrap/3.0.0/css/bootstrap.min.css&quot;/&gt;\n",
       "    &lt;link rel=&quot;stylesheet&quot; href=&quot;https://cdn.jsdelivr.net/npm/@fortawesome/fontawesome-free@6.2.0/css/all.min.css&quot;/&gt;\n",
       "    &lt;link rel=&quot;stylesheet&quot; href=&quot;https://cdnjs.cloudflare.com/ajax/libs/Leaflet.awesome-markers/2.0.2/leaflet.awesome-markers.css&quot;/&gt;\n",
       "    &lt;link rel=&quot;stylesheet&quot; href=&quot;https://cdn.jsdelivr.net/gh/python-visualization/folium/folium/templates/leaflet.awesome.rotate.min.css&quot;/&gt;\n",
       "    \n",
       "            &lt;meta name=&quot;viewport&quot; content=&quot;width=device-width,\n",
       "                initial-scale=1.0, maximum-scale=1.0, user-scalable=no&quot; /&gt;\n",
       "            &lt;style&gt;\n",
       "                #map_f10a1df891d66e70051e1187881a6cd9 {\n",
       "                    position: relative;\n",
       "                    width: 100.0%;\n",
       "                    height: 100.0%;\n",
       "                    left: 0.0%;\n",
       "                    top: 0.0%;\n",
       "                }\n",
       "                .leaflet-container { font-size: 1rem; }\n",
       "            &lt;/style&gt;\n",
       "        \n",
       "    \n",
       "                    &lt;style&gt;\n",
       "                        .foliumtooltip {\n",
       "                            \n",
       "                        }\n",
       "                       .foliumtooltip table{\n",
       "                            margin: auto;\n",
       "                        }\n",
       "                        .foliumtooltip tr{\n",
       "                            text-align: left;\n",
       "                        }\n",
       "                        .foliumtooltip th{\n",
       "                            padding: 2px; padding-right: 8px;\n",
       "                        }\n",
       "                    &lt;/style&gt;\n",
       "            \n",
       "    \n",
       "                    &lt;style&gt;\n",
       "                        .foliumtooltip {\n",
       "                            \n",
       "                        }\n",
       "                       .foliumtooltip table{\n",
       "                            margin: auto;\n",
       "                        }\n",
       "                        .foliumtooltip tr{\n",
       "                            text-align: left;\n",
       "                        }\n",
       "                        .foliumtooltip th{\n",
       "                            padding: 2px; padding-right: 8px;\n",
       "                        }\n",
       "                    &lt;/style&gt;\n",
       "            \n",
       "&lt;/head&gt;\n",
       "&lt;body&gt;\n",
       "    \n",
       "    \n",
       "            &lt;div class=&quot;folium-map&quot; id=&quot;map_f10a1df891d66e70051e1187881a6cd9&quot; &gt;&lt;/div&gt;\n",
       "        \n",
       "&lt;/body&gt;\n",
       "&lt;script&gt;\n",
       "    \n",
       "    \n",
       "            var map_f10a1df891d66e70051e1187881a6cd9 = L.map(\n",
       "                &quot;map_f10a1df891d66e70051e1187881a6cd9&quot;,\n",
       "                {\n",
       "                    center: [5.876913402751605, -56.27730584657558],\n",
       "                    crs: L.CRS.EPSG3857,\n",
       "                    zoom: 10,\n",
       "                    zoomControl: true,\n",
       "                    preferCanvas: false,\n",
       "                }\n",
       "            );\n",
       "            L.control.scale().addTo(map_f10a1df891d66e70051e1187881a6cd9);\n",
       "\n",
       "            \n",
       "\n",
       "        \n",
       "    \n",
       "            var tile_layer_0e8a209d0e52cc01ae146e8061a0afc8 = L.tileLayer(\n",
       "                &quot;https://{s}.tile.openstreetmap.org/{z}/{x}/{y}.png&quot;,\n",
       "                {&quot;attribution&quot;: &quot;Data by \\u0026copy; \\u003ca target=\\&quot;_blank\\&quot; href=\\&quot;http://openstreetmap.org\\&quot;\\u003eOpenStreetMap\\u003c/a\\u003e, under \\u003ca target=\\&quot;_blank\\&quot; href=\\&quot;http://www.openstreetmap.org/copyright\\&quot;\\u003eODbL\\u003c/a\\u003e.&quot;, &quot;detectRetina&quot;: false, &quot;maxNativeZoom&quot;: 18, &quot;maxZoom&quot;: 18, &quot;minZoom&quot;: 0, &quot;noWrap&quot;: false, &quot;opacity&quot;: 1, &quot;subdomains&quot;: &quot;abc&quot;, &quot;tms&quot;: false}\n",
       "            ).addTo(map_f10a1df891d66e70051e1187881a6cd9);\n",
       "        \n",
       "    \n",
       "            map_f10a1df891d66e70051e1187881a6cd9.fitBounds(\n",
       "                [[5.874199711688665, -56.27730934669325], [5.879627093814545, -56.27730234645791]],\n",
       "                {}\n",
       "            );\n",
       "        \n",
       "    \n",
       "        function geo_json_312c44fa83928a40918f747793041983_styler(feature) {\n",
       "            switch(feature.id) {\n",
       "                default:\n",
       "                    return {&quot;fillOpacity&quot;: 0.5, &quot;weight&quot;: 2};\n",
       "            }\n",
       "        }\n",
       "        function geo_json_312c44fa83928a40918f747793041983_highlighter(feature) {\n",
       "            switch(feature.id) {\n",
       "                default:\n",
       "                    return {&quot;fillOpacity&quot;: 0.75};\n",
       "            }\n",
       "        }\n",
       "        function geo_json_312c44fa83928a40918f747793041983_pointToLayer(feature, latlng) {\n",
       "            var opts = {&quot;bubblingMouseEvents&quot;: true, &quot;color&quot;: &quot;#3388ff&quot;, &quot;dashArray&quot;: null, &quot;dashOffset&quot;: null, &quot;fill&quot;: true, &quot;fillColor&quot;: &quot;#3388ff&quot;, &quot;fillOpacity&quot;: 0.2, &quot;fillRule&quot;: &quot;evenodd&quot;, &quot;lineCap&quot;: &quot;round&quot;, &quot;lineJoin&quot;: &quot;round&quot;, &quot;opacity&quot;: 1.0, &quot;radius&quot;: 5, &quot;stroke&quot;: true, &quot;weight&quot;: 3};\n",
       "            \n",
       "            let style = geo_json_312c44fa83928a40918f747793041983_styler(feature)\n",
       "            Object.assign(opts, style)\n",
       "            \n",
       "            return new L.CircleMarker(latlng, opts)\n",
       "        }\n",
       "\n",
       "        function geo_json_312c44fa83928a40918f747793041983_onEachFeature(feature, layer) {\n",
       "            layer.on({\n",
       "                mouseout: function(e) {\n",
       "                    if(typeof e.target.setStyle === &quot;function&quot;){\n",
       "                        geo_json_312c44fa83928a40918f747793041983.resetStyle(e.target);\n",
       "                    }\n",
       "                },\n",
       "                mouseover: function(e) {\n",
       "                    if(typeof e.target.setStyle === &quot;function&quot;){\n",
       "                        const highlightStyle = geo_json_312c44fa83928a40918f747793041983_highlighter(e.target.feature)\n",
       "                        e.target.setStyle(highlightStyle);\n",
       "                    }\n",
       "                },\n",
       "            });\n",
       "        };\n",
       "        var geo_json_312c44fa83928a40918f747793041983 = L.geoJson(null, {\n",
       "                onEachFeature: geo_json_312c44fa83928a40918f747793041983_onEachFeature,\n",
       "            \n",
       "                style: geo_json_312c44fa83928a40918f747793041983_styler,\n",
       "                pointToLayer: geo_json_312c44fa83928a40918f747793041983_pointToLayer\n",
       "        });\n",
       "\n",
       "        function geo_json_312c44fa83928a40918f747793041983_add (data) {\n",
       "            geo_json_312c44fa83928a40918f747793041983\n",
       "                .addData(data)\n",
       "                .addTo(map_f10a1df891d66e70051e1187881a6cd9);\n",
       "        }\n",
       "            geo_json_312c44fa83928a40918f747793041983_add({&quot;bbox&quot;: [-56.27730934669325, 5.874199711688665, -56.27730234645791, 5.879627093814545], &quot;features&quot;: [{&quot;bbox&quot;: [-56.27730934669325, 5.874199711688665, -56.27730934669325, 5.874199711688665], &quot;geometry&quot;: {&quot;coordinates&quot;: [-56.27730934669325, 5.874199711688665], &quot;type&quot;: &quot;Point&quot;}, &quot;id&quot;: &quot;44&quot;, &quot;properties&quot;: {&quot;Avicennia_count&quot;: 128.0, &quot;Laguncularia_count&quot;: 0.0, &quot;OtherSpecies_count&quot;: 0.0, &quot;PSP&quot;: 1, &quot;Rhizopora_count&quot;: 2.0, &quot;SU&quot;: &quot;4&quot;, &quot;dist_centrum&quot;: 6676.578064398009, &quot;id_plot&quot;: &quot;4_1&quot;}, &quot;type&quot;: &quot;Feature&quot;}, {&quot;bbox&quot;: [-56.27730701401233, 5.876008839181732, -56.27730701401233, 5.876008839181732], &quot;geometry&quot;: {&quot;coordinates&quot;: [-56.27730701401233, 5.876008839181732], &quot;type&quot;: &quot;Point&quot;}, &quot;id&quot;: &quot;45&quot;, &quot;properties&quot;: {&quot;Avicennia_count&quot;: 172.0, &quot;Laguncularia_count&quot;: 0.0, &quot;OtherSpecies_count&quot;: 0.0, &quot;PSP&quot;: 2, &quot;Rhizopora_count&quot;: 0.0, &quot;SU&quot;: &quot;4&quot;, &quot;dist_centrum&quot;: 6650.995012025404, &quot;id_plot&quot;: &quot;4_2&quot;}, &quot;type&quot;: &quot;Feature&quot;}, {&quot;bbox&quot;: [-56.277304680600544, 5.877817966557038, -56.277304680600544, 5.877817966557038], &quot;geometry&quot;: {&quot;coordinates&quot;: [-56.277304680600544, 5.877817966557038], &quot;type&quot;: &quot;Point&quot;}, &quot;id&quot;: &quot;46&quot;, &quot;properties&quot;: {&quot;Avicennia_count&quot;: 230.0, &quot;Laguncularia_count&quot;: 0.0, &quot;OtherSpecies_count&quot;: 0.0, &quot;PSP&quot;: 3, &quot;Rhizopora_count&quot;: 0.0, &quot;SU&quot;: &quot;4&quot;, &quot;dist_centrum&quot;: 6631.347875809193, &quot;id_plot&quot;: &quot;4_3&quot;}, &quot;type&quot;: &quot;Feature&quot;}, {&quot;bbox&quot;: [-56.27730234645791, 5.879627093814545, -56.27730234645791, 5.879627093814545], &quot;geometry&quot;: {&quot;coordinates&quot;: [-56.27730234645791, 5.879627093814545], &quot;type&quot;: &quot;Point&quot;}, &quot;id&quot;: &quot;47&quot;, &quot;properties&quot;: {&quot;Avicennia_count&quot;: 201.0, &quot;Laguncularia_count&quot;: 0.0, &quot;OtherSpecies_count&quot;: 0.0, &quot;PSP&quot;: 4, &quot;Rhizopora_count&quot;: 0.0, &quot;SU&quot;: &quot;4&quot;, &quot;dist_centrum&quot;: 6617.689525053224, &quot;id_plot&quot;: &quot;4_4&quot;}, &quot;type&quot;: &quot;Feature&quot;}], &quot;type&quot;: &quot;FeatureCollection&quot;});\n",
       "\n",
       "        \n",
       "    \n",
       "    geo_json_312c44fa83928a40918f747793041983.bindTooltip(\n",
       "    function(layer){\n",
       "    let div = L.DomUtil.create(&#x27;div&#x27;);\n",
       "    \n",
       "    let handleObject = feature=&gt;typeof(feature)==&#x27;object&#x27; ? JSON.stringify(feature) : feature;\n",
       "    let fields = [&quot;id_plot&quot;, &quot;SU&quot;, &quot;PSP&quot;, &quot;Avicennia_count&quot;, &quot;Rhizopora_count&quot;, &quot;Laguncularia_count&quot;, &quot;OtherSpecies_count&quot;, &quot;dist_centrum&quot;];\n",
       "    let aliases = [&quot;id_plot&quot;, &quot;SU&quot;, &quot;PSP&quot;, &quot;Avicennia_count&quot;, &quot;Rhizopora_count&quot;, &quot;Laguncularia_count&quot;, &quot;OtherSpecies_count&quot;, &quot;dist_centrum&quot;];\n",
       "    let table = &#x27;&lt;table&gt;&#x27; +\n",
       "        String(\n",
       "        fields.map(\n",
       "        (v,i)=&gt;\n",
       "        `&lt;tr&gt;\n",
       "            &lt;th&gt;${aliases[i]}&lt;/th&gt;\n",
       "            \n",
       "            &lt;td&gt;${handleObject(layer.feature.properties[v])}&lt;/td&gt;\n",
       "        &lt;/tr&gt;`).join(&#x27;&#x27;))\n",
       "    +&#x27;&lt;/table&gt;&#x27;;\n",
       "    div.innerHTML=table;\n",
       "    \n",
       "    return div\n",
       "    }\n",
       "    ,{&quot;className&quot;: &quot;foliumtooltip&quot;, &quot;sticky&quot;: true});\n",
       "                     \n",
       "    \n",
       "        function geo_json_662a8056383cde974ff29eb1bbf01ffe_styler(feature) {\n",
       "            switch(feature.id) {\n",
       "                default:\n",
       "                    return {&quot;color&quot;: &quot;red&quot;, &quot;fillColor&quot;: &quot;red&quot;, &quot;fillOpacity&quot;: 0.5, &quot;weight&quot;: 2};\n",
       "            }\n",
       "        }\n",
       "        function geo_json_662a8056383cde974ff29eb1bbf01ffe_highlighter(feature) {\n",
       "            switch(feature.id) {\n",
       "                default:\n",
       "                    return {&quot;fillOpacity&quot;: 0.75};\n",
       "            }\n",
       "        }\n",
       "        function geo_json_662a8056383cde974ff29eb1bbf01ffe_pointToLayer(feature, latlng) {\n",
       "            var opts = {&quot;bubblingMouseEvents&quot;: true, &quot;color&quot;: &quot;#3388ff&quot;, &quot;dashArray&quot;: null, &quot;dashOffset&quot;: null, &quot;fill&quot;: true, &quot;fillColor&quot;: &quot;#3388ff&quot;, &quot;fillOpacity&quot;: 0.2, &quot;fillRule&quot;: &quot;evenodd&quot;, &quot;lineCap&quot;: &quot;round&quot;, &quot;lineJoin&quot;: &quot;round&quot;, &quot;opacity&quot;: 1.0, &quot;radius&quot;: 5, &quot;stroke&quot;: true, &quot;weight&quot;: 3};\n",
       "            \n",
       "            let style = geo_json_662a8056383cde974ff29eb1bbf01ffe_styler(feature)\n",
       "            Object.assign(opts, style)\n",
       "            \n",
       "            return new L.CircleMarker(latlng, opts)\n",
       "        }\n",
       "\n",
       "        function geo_json_662a8056383cde974ff29eb1bbf01ffe_onEachFeature(feature, layer) {\n",
       "            layer.on({\n",
       "                mouseout: function(e) {\n",
       "                    if(typeof e.target.setStyle === &quot;function&quot;){\n",
       "                        geo_json_662a8056383cde974ff29eb1bbf01ffe.resetStyle(e.target);\n",
       "                    }\n",
       "                },\n",
       "                mouseover: function(e) {\n",
       "                    if(typeof e.target.setStyle === &quot;function&quot;){\n",
       "                        const highlightStyle = geo_json_662a8056383cde974ff29eb1bbf01ffe_highlighter(e.target.feature)\n",
       "                        e.target.setStyle(highlightStyle);\n",
       "                    }\n",
       "                },\n",
       "            });\n",
       "        };\n",
       "        var geo_json_662a8056383cde974ff29eb1bbf01ffe = L.geoJson(null, {\n",
       "                onEachFeature: geo_json_662a8056383cde974ff29eb1bbf01ffe_onEachFeature,\n",
       "            \n",
       "                style: geo_json_662a8056383cde974ff29eb1bbf01ffe_styler,\n",
       "                pointToLayer: geo_json_662a8056383cde974ff29eb1bbf01ffe_pointToLayer\n",
       "        });\n",
       "\n",
       "        function geo_json_662a8056383cde974ff29eb1bbf01ffe_add (data) {\n",
       "            geo_json_662a8056383cde974ff29eb1bbf01ffe\n",
       "                .addData(data)\n",
       "                .addTo(map_f10a1df891d66e70051e1187881a6cd9);\n",
       "        }\n",
       "            geo_json_662a8056383cde974ff29eb1bbf01ffe_add({&quot;bbox&quot;: [-56.33699327593504, 5.882888868285195, -56.33699327593504, 5.882888868285195], &quot;features&quot;: [{&quot;bbox&quot;: [-56.33699327593504, 5.882888868285195, -56.33699327593504, 5.882888868285195], &quot;geometry&quot;: {&quot;coordinates&quot;: [-56.33699327593504, 5.882888868285195], &quot;type&quot;: &quot;Point&quot;}, &quot;id&quot;: &quot;0&quot;, &quot;properties&quot;: {&quot;__folium_color&quot;: &quot;red&quot;}, &quot;type&quot;: &quot;Feature&quot;}], &quot;type&quot;: &quot;FeatureCollection&quot;});\n",
       "\n",
       "        \n",
       "    \n",
       "    geo_json_662a8056383cde974ff29eb1bbf01ffe.bindTooltip(\n",
       "    function(layer){\n",
       "    let div = L.DomUtil.create(&#x27;div&#x27;);\n",
       "    \n",
       "    return div\n",
       "    }\n",
       "    ,{&quot;className&quot;: &quot;foliumtooltip&quot;, &quot;sticky&quot;: true});\n",
       "                     \n",
       "&lt;/script&gt;\n",
       "&lt;/html&gt;\" style=\"position:absolute;width:100%;height:100%;left:0;top:0;border:none !important;\" allowfullscreen webkitallowfullscreen mozallowfullscreen></iframe></div></div>"
      ],
      "text/plain": [
       "<folium.folium.Map at 0x26178dc17e0>"
      ]
     },
     "execution_count": 124,
     "metadata": {},
     "output_type": "execute_result"
    }
   ],
   "source": [
    "# EXTRA:\n",
    "\n",
    "m = plots_centrum.explore(marker_kwds=dict(radius=5))\n",
    "geopandas.GeoSeries([educatiecentrum], crs='EPSG:32621').explore(m=m, color='red', marker_kwds=dict(radius=5))"
   ]
  },
  {
   "cell_type": "markdown",
   "metadata": {},
   "source": [
    "---"
   ]
  },
  {
   "cell_type": "markdown",
   "metadata": {},
   "source": [
    "## Spatial joins"
   ]
  },
  {
   "cell_type": "markdown",
   "metadata": {},
   "source": [
    "In the previous section of this notebook, we could use the spatial relationship methods to check in which country a certain city was located. But what if we wanted to perform this same operation for every city and country? For example, we might want to know for each city in which country it is located.  \n",
    "\n",
    "In tabular jargon, this would imply adding a column to our cities dataframe with the name of the country in which it is located. Since country name is contained in the countries dataset, we need to combine - or \"join\" - information from both datasets. Joining on location (rather than on a shared column) is called a \"spatial join\".\n",
    "\n",
    "So here we will do:\n",
    "\n",
    "- Based on the `countries` and `cities` dataframes, determine for each city the country in which it is located.\n",
    "- To solve this problem, we will use the the concept of a \"spatial join\" operation: combining information of geospatial datasets based on their spatial relationship."
   ]
  },
  {
   "cell_type": "markdown",
   "metadata": {},
   "source": [
    "### Recap - joining dataframes\n",
    "\n",
    "Pandas provides functionality to join or merge dataframes in different ways, see https://chrisalbon.com/python/data_wrangling/pandas_join_merge_dataframe/ for an overview and https://pandas.pydata.org/pandas-docs/stable/merging.html for the full documentation."
   ]
  },
  {
   "cell_type": "markdown",
   "metadata": {},
   "source": [
    "To illustrate the concept of joining the information of two dataframes with pandas, let's take a small subset of our `cities` and `countries` datasets:"
   ]
  },
  {
   "cell_type": "code",
   "execution_count": null,
   "metadata": {},
   "outputs": [],
   "source": [
    "cities2 = cities[cities['name'].isin(['Bern', 'Brussels', 'London', 'Paris'])].copy()\n",
    "cities2['iso_a3'] = ['CHE', 'BEL', 'GBR', 'FRA']"
   ]
  },
  {
   "cell_type": "code",
   "execution_count": null,
   "metadata": {},
   "outputs": [],
   "source": [
    "cities2"
   ]
  },
  {
   "cell_type": "code",
   "execution_count": null,
   "metadata": {},
   "outputs": [],
   "source": [
    "countries2 = countries[['iso_a3', 'name', 'continent']]\n",
    "countries2.head()"
   ]
  },
  {
   "cell_type": "markdown",
   "metadata": {},
   "source": [
    "We added a 'iso_a3' column to the `cities` dataset, indicating a code of the country of the city. This country code is also present in the `countries` dataset, which allows us to merge those two dataframes based on the common column.\n",
    "\n",
    "Joining the `cities` dataframe with `countries` will transfer extra information about the countries (the full name, the continent) to the `cities` dataframe, based on a common key:"
   ]
  },
  {
   "cell_type": "code",
   "execution_count": null,
   "metadata": {},
   "outputs": [],
   "source": [
    "cities2.merge(countries2, on='iso_a3')"
   ]
  },
  {
   "cell_type": "markdown",
   "metadata": {},
   "source": [
    "**But** for this illustrative example we added the common column manually, it is not present in the original dataset. However, we can still know how to join those two datasets based on their spatial coordinates."
   ]
  },
  {
   "cell_type": "markdown",
   "metadata": {},
   "source": [
    "### Recap - spatial relationships between objects\n",
    "\n",
    "In the previous section, we have seen the notion of spatial relationships between geometry objects: within, contains, intersects, ...\n",
    "\n",
    "In this case, we know that each of the cities is located *within* one of the countries, or the other way around that each country can *contain* multiple cities.\n",
    "\n",
    "We can test such relationships using the methods we have seen in the previous notebook:"
   ]
  },
  {
   "cell_type": "code",
   "execution_count": null,
   "metadata": {},
   "outputs": [],
   "source": [
    "france = countries.loc[countries['name'] == 'France', 'geometry'].squeeze()"
   ]
  },
  {
   "cell_type": "code",
   "execution_count": null,
   "metadata": {},
   "outputs": [],
   "source": [
    "cities.within(france)"
   ]
  },
  {
   "cell_type": "markdown",
   "metadata": {},
   "source": [
    "The above gives us a boolean series, indicating for each point in our `cities` dataframe whether it is located within the area of France or not.  \n",
    "Because this is a boolean series as result, we can use it to filter the original dataframe to only show those cities that are actually within France:"
   ]
  },
  {
   "cell_type": "code",
   "execution_count": null,
   "metadata": {},
   "outputs": [],
   "source": [
    "cities[cities.within(france)]"
   ]
  },
  {
   "cell_type": "markdown",
   "metadata": {},
   "source": [
    "We could now repeat the above analysis for each of the countries, and add a column to the `cities` dataframe indicating this country. However, that would be tedious to do manually, and is also exactly what the spatial join operation provides us.\n",
    "\n",
    "*(note: the above result is incorrect, but this is just because of the coarse-ness of the countries dataset)*"
   ]
  },
  {
   "cell_type": "markdown",
   "metadata": {},
   "source": [
    "## Spatial join operation\n",
    "\n",
    "<div class=\"alert alert-info\" style=\"font-size:120%\">\n",
    "\n",
    "**SPATIAL JOIN** = het overbrengen van attributen van de ene laag naar de andere op basis van hun spatiale relatie\n",
    "\n",
    "Verschillende onderdelen van deze operatie:\n",
    "\n",
    "* De GeoDataFrame waaraan we informatie willen toevoegen.\n",
    "* De GeoDataFrame die de informatie bevat die we willen toevoegen.\n",
    "* De spatiale relatie (\"predicate\") die we willen gebruiken om beide datasets te matchen ('intersects', 'contains', 'within').\n",
    "* Het type join: linkse of binnenste join.\n",
    "\n",
    "\n",
    "![](../img/illustration-spatial-join.svg)\n",
    "\n",
    "</div>"
   ]
  },
  {
   "cell_type": "markdown",
   "metadata": {},
   "source": [
    "In dit geval willen we de `cities` met de informatie van de `countries` dataframe samenvoegen, gebaseerd op the spatiale relatie tussen beide datasets.\n",
    "\n",
    "Hiervoor maken we gebruik van de  [`geopandas.sjoin`](http://geopandas.readthedocs.io/en/latest/reference/geopandas.sjoin.html) functie:"
   ]
  },
  {
   "cell_type": "code",
   "execution_count": 128,
   "metadata": {},
   "outputs": [],
   "source": [
    "joined = geopandas.sjoin(cities, countries, predicate='within', how='left')"
   ]
  },
  {
   "cell_type": "code",
   "execution_count": 129,
   "metadata": {},
   "outputs": [
    {
     "data": {
      "text/html": [
       "<div>\n",
       "<style scoped>\n",
       "    .dataframe tbody tr th:only-of-type {\n",
       "        vertical-align: middle;\n",
       "    }\n",
       "\n",
       "    .dataframe tbody tr th {\n",
       "        vertical-align: top;\n",
       "    }\n",
       "\n",
       "    .dataframe thead th {\n",
       "        text-align: right;\n",
       "    }\n",
       "</style>\n",
       "<table border=\"1\" class=\"dataframe\">\n",
       "  <thead>\n",
       "    <tr style=\"text-align: right;\">\n",
       "      <th></th>\n",
       "      <th>name_left</th>\n",
       "      <th>geometry</th>\n",
       "      <th>index_right</th>\n",
       "      <th>name_right</th>\n",
       "      <th>iso_a3</th>\n",
       "      <th>pop_est</th>\n",
       "      <th>gdp_md_est</th>\n",
       "      <th>continent</th>\n",
       "    </tr>\n",
       "  </thead>\n",
       "  <tbody>\n",
       "    <tr>\n",
       "      <th>0</th>\n",
       "      <td>Vatican City</td>\n",
       "      <td>POINT (12.45339 41.90328)</td>\n",
       "      <td>88.0</td>\n",
       "      <td>Vatican</td>\n",
       "      <td>VAT</td>\n",
       "      <td>8.250000e+02</td>\n",
       "      <td>-99.0</td>\n",
       "      <td>Europe</td>\n",
       "    </tr>\n",
       "    <tr>\n",
       "      <th>1</th>\n",
       "      <td>San Marino</td>\n",
       "      <td>POINT (12.44177 43.93610)</td>\n",
       "      <td>104.0</td>\n",
       "      <td>San Marino</td>\n",
       "      <td>SMR</td>\n",
       "      <td>3.386000e+04</td>\n",
       "      <td>1655.0</td>\n",
       "      <td>Europe</td>\n",
       "    </tr>\n",
       "    <tr>\n",
       "      <th>2</th>\n",
       "      <td>Vaduz</td>\n",
       "      <td>POINT (9.51667 47.13372)</td>\n",
       "      <td>150.0</td>\n",
       "      <td>Liechtenstein</td>\n",
       "      <td>LIE</td>\n",
       "      <td>3.801900e+04</td>\n",
       "      <td>6876.0</td>\n",
       "      <td>Europe</td>\n",
       "    </tr>\n",
       "    <tr>\n",
       "      <th>3</th>\n",
       "      <td>Lobamba</td>\n",
       "      <td>POINT (31.20000 -26.46667)</td>\n",
       "      <td>174.0</td>\n",
       "      <td>eSwatini</td>\n",
       "      <td>SWZ</td>\n",
       "      <td>1.148130e+06</td>\n",
       "      <td>4471.0</td>\n",
       "      <td>Africa</td>\n",
       "    </tr>\n",
       "    <tr>\n",
       "      <th>4</th>\n",
       "      <td>Luxembourg</td>\n",
       "      <td>POINT (6.13000 49.61166)</td>\n",
       "      <td>118.0</td>\n",
       "      <td>Luxembourg</td>\n",
       "      <td>LUX</td>\n",
       "      <td>6.198960e+05</td>\n",
       "      <td>71104.0</td>\n",
       "      <td>Europe</td>\n",
       "    </tr>\n",
       "    <tr>\n",
       "      <th>...</th>\n",
       "      <td>...</td>\n",
       "      <td>...</td>\n",
       "      <td>...</td>\n",
       "      <td>...</td>\n",
       "      <td>...</td>\n",
       "      <td>...</td>\n",
       "      <td>...</td>\n",
       "      <td>...</td>\n",
       "    </tr>\n",
       "    <tr>\n",
       "      <th>238</th>\n",
       "      <td>Rio de Janeiro</td>\n",
       "      <td>POINT (-43.22697 -22.92308)</td>\n",
       "      <td>101.0</td>\n",
       "      <td>Brazil</td>\n",
       "      <td>BRA</td>\n",
       "      <td>2.110495e+08</td>\n",
       "      <td>1839758.0</td>\n",
       "      <td>South America</td>\n",
       "    </tr>\n",
       "    <tr>\n",
       "      <th>239</th>\n",
       "      <td>São Paulo</td>\n",
       "      <td>POINT (-46.62697 -23.55673)</td>\n",
       "      <td>101.0</td>\n",
       "      <td>Brazil</td>\n",
       "      <td>BRA</td>\n",
       "      <td>2.110495e+08</td>\n",
       "      <td>1839758.0</td>\n",
       "      <td>South America</td>\n",
       "    </tr>\n",
       "    <tr>\n",
       "      <th>240</th>\n",
       "      <td>Sydney</td>\n",
       "      <td>POINT (151.18323 -33.91807)</td>\n",
       "      <td>59.0</td>\n",
       "      <td>Australia</td>\n",
       "      <td>AU1</td>\n",
       "      <td>2.536431e+07</td>\n",
       "      <td>1396567.0</td>\n",
       "      <td>Oceania</td>\n",
       "    </tr>\n",
       "    <tr>\n",
       "      <th>241</th>\n",
       "      <td>Singapore</td>\n",
       "      <td>POINT (103.85387 1.29498)</td>\n",
       "      <td>187.0</td>\n",
       "      <td>Singapore</td>\n",
       "      <td>SGP</td>\n",
       "      <td>5.703569e+06</td>\n",
       "      <td>372062.0</td>\n",
       "      <td>Asia</td>\n",
       "    </tr>\n",
       "    <tr>\n",
       "      <th>242</th>\n",
       "      <td>Hong Kong</td>\n",
       "      <td>POINT (114.18306 22.30693)</td>\n",
       "      <td>186.0</td>\n",
       "      <td>China</td>\n",
       "      <td>CH1</td>\n",
       "      <td>1.397715e+09</td>\n",
       "      <td>14342903.0</td>\n",
       "      <td>Asia</td>\n",
       "    </tr>\n",
       "  </tbody>\n",
       "</table>\n",
       "<p>243 rows × 8 columns</p>\n",
       "</div>"
      ],
      "text/plain": [
       "          name_left                     geometry  index_right     name_right  \\\n",
       "0      Vatican City    POINT (12.45339 41.90328)         88.0        Vatican   \n",
       "1        San Marino    POINT (12.44177 43.93610)        104.0     San Marino   \n",
       "2             Vaduz     POINT (9.51667 47.13372)        150.0  Liechtenstein   \n",
       "3           Lobamba   POINT (31.20000 -26.46667)        174.0       eSwatini   \n",
       "4        Luxembourg     POINT (6.13000 49.61166)        118.0     Luxembourg   \n",
       "..              ...                          ...          ...            ...   \n",
       "238  Rio de Janeiro  POINT (-43.22697 -22.92308)        101.0         Brazil   \n",
       "239       São Paulo  POINT (-46.62697 -23.55673)        101.0         Brazil   \n",
       "240          Sydney  POINT (151.18323 -33.91807)         59.0      Australia   \n",
       "241       Singapore    POINT (103.85387 1.29498)        187.0      Singapore   \n",
       "242       Hong Kong   POINT (114.18306 22.30693)        186.0          China   \n",
       "\n",
       "    iso_a3       pop_est  gdp_md_est      continent  \n",
       "0      VAT  8.250000e+02       -99.0         Europe  \n",
       "1      SMR  3.386000e+04      1655.0         Europe  \n",
       "2      LIE  3.801900e+04      6876.0         Europe  \n",
       "3      SWZ  1.148130e+06      4471.0         Africa  \n",
       "4      LUX  6.198960e+05     71104.0         Europe  \n",
       "..     ...           ...         ...            ...  \n",
       "238    BRA  2.110495e+08   1839758.0  South America  \n",
       "239    BRA  2.110495e+08   1839758.0  South America  \n",
       "240    AU1  2.536431e+07   1396567.0        Oceania  \n",
       "241    SGP  5.703569e+06    372062.0           Asia  \n",
       "242    CH1  1.397715e+09  14342903.0           Asia  \n",
       "\n",
       "[243 rows x 8 columns]"
      ]
     },
     "execution_count": 129,
     "metadata": {},
     "output_type": "execute_result"
    }
   ],
   "source": [
    "joined"
   ]
  },
  {
   "cell_type": "code",
   "execution_count": 130,
   "metadata": {},
   "outputs": [
    {
     "data": {
      "text/html": [
       "<div>\n",
       "<style scoped>\n",
       "    .dataframe tbody tr th:only-of-type {\n",
       "        vertical-align: middle;\n",
       "    }\n",
       "\n",
       "    .dataframe tbody tr th {\n",
       "        vertical-align: top;\n",
       "    }\n",
       "\n",
       "    .dataframe thead th {\n",
       "        text-align: right;\n",
       "    }\n",
       "</style>\n",
       "<table border=\"1\" class=\"dataframe\">\n",
       "  <thead>\n",
       "    <tr style=\"text-align: right;\">\n",
       "      <th></th>\n",
       "      <th>name_left</th>\n",
       "      <th>geometry</th>\n",
       "      <th>index_right</th>\n",
       "      <th>name_right</th>\n",
       "      <th>iso_a3</th>\n",
       "      <th>pop_est</th>\n",
       "      <th>gdp_md_est</th>\n",
       "      <th>continent</th>\n",
       "    </tr>\n",
       "  </thead>\n",
       "  <tbody>\n",
       "    <tr>\n",
       "      <th>59</th>\n",
       "      <td>Paramaribo</td>\n",
       "      <td>POINT (-55.16703 5.83503)</td>\n",
       "      <td>70.0</td>\n",
       "      <td>Suriname</td>\n",
       "      <td>SUR</td>\n",
       "      <td>581363.0</td>\n",
       "      <td>2715518.0</td>\n",
       "      <td>South America</td>\n",
       "    </tr>\n",
       "  </tbody>\n",
       "</table>\n",
       "</div>"
      ],
      "text/plain": [
       "     name_left                   geometry  index_right name_right iso_a3  \\\n",
       "59  Paramaribo  POINT (-55.16703 5.83503)         70.0   Suriname    SUR   \n",
       "\n",
       "     pop_est  gdp_md_est      continent  \n",
       "59  581363.0   2715518.0  South America  "
      ]
     },
     "execution_count": 130,
     "metadata": {},
     "output_type": "execute_result"
    }
   ],
   "source": [
    "joined[joined[\"name_right\"] == \"Suriname\"]"
   ]
  },
  {
   "cell_type": "code",
   "execution_count": 131,
   "metadata": {},
   "outputs": [
    {
     "data": {
      "text/plain": [
       "continent\n",
       "Africa                     64\n",
       "Asia                       64\n",
       "Europe                     44\n",
       "North America              34\n",
       "South America              16\n",
       "Oceania                    11\n",
       "Seven seas (open ocean)     3\n",
       "Name: count, dtype: int64"
      ]
     },
     "execution_count": 131,
     "metadata": {},
     "output_type": "execute_result"
    }
   ],
   "source": [
    "joined['continent'].value_counts()"
   ]
  },
  {
   "cell_type": "markdown",
   "metadata": {},
   "source": [
    "## Oefenen!\n",
    "\n",
    "Andermaal maken we gebruik van de mangrove-dataset"
   ]
  },
  {
   "cell_type": "code",
   "execution_count": 76,
   "metadata": {},
   "outputs": [],
   "source": [
    "districten = geopandas.read_file(\"data/Suriname_districts.geojson\").to_crs(epsg=32621)\n",
    "plotdata = geopandas.read_file(\"data/mangrove_2022.gpkg\").to_crs(epsg=32621)"
   ]
  },
  {
   "cell_type": "markdown",
   "metadata": {},
   "source": [
    "<div class=\"alert alert-success\">\n",
    "\n",
    "**Oefening 4:**\n",
    "\n",
    "* Bepaal voor elke mangrove plot in welke district het is gelegen. Noem het resultaat `joined`.\n",
    "\n",
    "<details><summary>Hints</summary>\n",
    "\n",
    "- De `geopandas.sjoin()` functie heeft 2 argumenten: 1e argument is de dataframe waar we informatie aan willen toevoegen. Het 2e argument waar we de info vandaan willen halen. \n",
    "</details>\n",
    "\n",
    "</div>"
   ]
  },
  {
   "cell_type": "code",
   "execution_count": 135,
   "metadata": {
    "tags": [
     "nbtutor-solution"
    ]
   },
   "outputs": [],
   "source": [
    "joined = geopandas.sjoin(plotdata,districten,predicate = 'within', how = \"left\")"
   ]
  },
  {
   "cell_type": "code",
   "execution_count": 137,
   "metadata": {
    "tags": []
   },
   "outputs": [
    {
     "data": {
      "text/html": [
       "<div>\n",
       "<style scoped>\n",
       "    .dataframe tbody tr th:only-of-type {\n",
       "        vertical-align: middle;\n",
       "    }\n",
       "\n",
       "    .dataframe tbody tr th {\n",
       "        vertical-align: top;\n",
       "    }\n",
       "\n",
       "    .dataframe thead th {\n",
       "        text-align: right;\n",
       "    }\n",
       "</style>\n",
       "<table border=\"1\" class=\"dataframe\">\n",
       "  <thead>\n",
       "    <tr style=\"text-align: right;\">\n",
       "      <th></th>\n",
       "      <th>id_plot</th>\n",
       "      <th>SU</th>\n",
       "      <th>PSP</th>\n",
       "      <th>Avicennia_count</th>\n",
       "      <th>Rhizopora_count</th>\n",
       "      <th>Laguncularia_count</th>\n",
       "      <th>OtherSpecies_count</th>\n",
       "      <th>geometry</th>\n",
       "      <th>dist_centrum</th>\n",
       "      <th>index_right</th>\n",
       "      <th>DISTR_NAAM</th>\n",
       "    </tr>\n",
       "  </thead>\n",
       "  <tbody>\n",
       "    <tr>\n",
       "      <th>0</th>\n",
       "      <td>1_1</td>\n",
       "      <td>1</td>\n",
       "      <td>1</td>\n",
       "      <td>74.0</td>\n",
       "      <td>0.0</td>\n",
       "      <td>0.0</td>\n",
       "      <td>0.0</td>\n",
       "      <td>POINT (499000.000 659150.000)</td>\n",
       "      <td>74915.986643</td>\n",
       "      <td>4.0</td>\n",
       "      <td>Nickerie</td>\n",
       "    </tr>\n",
       "    <tr>\n",
       "      <th>1</th>\n",
       "      <td>1_2</td>\n",
       "      <td>1</td>\n",
       "      <td>2</td>\n",
       "      <td>75.0</td>\n",
       "      <td>0.0</td>\n",
       "      <td>0.0</td>\n",
       "      <td>0.0</td>\n",
       "      <td>POINT (499000.000 659350.000)</td>\n",
       "      <td>74939.869860</td>\n",
       "      <td>4.0</td>\n",
       "      <td>Nickerie</td>\n",
       "    </tr>\n",
       "    <tr>\n",
       "      <th>2</th>\n",
       "      <td>1_3</td>\n",
       "      <td>1</td>\n",
       "      <td>3</td>\n",
       "      <td>77.0</td>\n",
       "      <td>0.0</td>\n",
       "      <td>0.0</td>\n",
       "      <td>0.0</td>\n",
       "      <td>POINT (499000.000 659550.000)</td>\n",
       "      <td>74964.279058</td>\n",
       "      <td>4.0</td>\n",
       "      <td>Nickerie</td>\n",
       "    </tr>\n",
       "    <tr>\n",
       "      <th>3</th>\n",
       "      <td>1_4</td>\n",
       "      <td>1</td>\n",
       "      <td>4</td>\n",
       "      <td>101.0</td>\n",
       "      <td>0.0</td>\n",
       "      <td>3.0</td>\n",
       "      <td>0.0</td>\n",
       "      <td>POINT (499000.000 659750.000)</td>\n",
       "      <td>74989.213722</td>\n",
       "      <td>4.0</td>\n",
       "      <td>Nickerie</td>\n",
       "    </tr>\n",
       "    <tr>\n",
       "      <th>4</th>\n",
       "      <td>10_1</td>\n",
       "      <td>10</td>\n",
       "      <td>1</td>\n",
       "      <td>NaN</td>\n",
       "      <td>NaN</td>\n",
       "      <td>NaN</td>\n",
       "      <td>NaN</td>\n",
       "      <td>POINT (707500.000 660650.000)</td>\n",
       "      <td>134506.910435</td>\n",
       "      <td>1.0</td>\n",
       "      <td>Commewijne</td>\n",
       "    </tr>\n",
       "    <tr>\n",
       "      <th>...</th>\n",
       "      <td>...</td>\n",
       "      <td>...</td>\n",
       "      <td>...</td>\n",
       "      <td>...</td>\n",
       "      <td>...</td>\n",
       "      <td>...</td>\n",
       "      <td>...</td>\n",
       "      <td>...</td>\n",
       "      <td>...</td>\n",
       "      <td>...</td>\n",
       "      <td>...</td>\n",
       "    </tr>\n",
       "    <tr>\n",
       "      <th>63</th>\n",
       "      <td>8_4</td>\n",
       "      <td>8</td>\n",
       "      <td>4</td>\n",
       "      <td>77.0</td>\n",
       "      <td>0.0</td>\n",
       "      <td>0.0</td>\n",
       "      <td>0.0</td>\n",
       "      <td>POINT (658000.000 661050.000)</td>\n",
       "      <td>85288.189890</td>\n",
       "      <td>7.0</td>\n",
       "      <td>Saramacca</td>\n",
       "    </tr>\n",
       "    <tr>\n",
       "      <th>64</th>\n",
       "      <td>9_1</td>\n",
       "      <td>9</td>\n",
       "      <td>1</td>\n",
       "      <td>253.0</td>\n",
       "      <td>0.0</td>\n",
       "      <td>0.0</td>\n",
       "      <td>0.0</td>\n",
       "      <td>POINT (674000.000 660050.000)</td>\n",
       "      <td>101079.403118</td>\n",
       "      <td>7.0</td>\n",
       "      <td>Saramacca</td>\n",
       "    </tr>\n",
       "    <tr>\n",
       "      <th>65</th>\n",
       "      <td>9_2</td>\n",
       "      <td>9</td>\n",
       "      <td>2</td>\n",
       "      <td>208.0</td>\n",
       "      <td>1.0</td>\n",
       "      <td>2.0</td>\n",
       "      <td>42.0</td>\n",
       "      <td>POINT (674000.000 660250.000)</td>\n",
       "      <td>101098.886120</td>\n",
       "      <td>7.0</td>\n",
       "      <td>Saramacca</td>\n",
       "    </tr>\n",
       "    <tr>\n",
       "      <th>66</th>\n",
       "      <td>9_3</td>\n",
       "      <td>9</td>\n",
       "      <td>3</td>\n",
       "      <td>70.0</td>\n",
       "      <td>2.0</td>\n",
       "      <td>0.0</td>\n",
       "      <td>0.0</td>\n",
       "      <td>POINT (674000.000 660450.000)</td>\n",
       "      <td>101118.760943</td>\n",
       "      <td>7.0</td>\n",
       "      <td>Saramacca</td>\n",
       "    </tr>\n",
       "    <tr>\n",
       "      <th>67</th>\n",
       "      <td>9_4</td>\n",
       "      <td>9</td>\n",
       "      <td>4</td>\n",
       "      <td>20.0</td>\n",
       "      <td>56.0</td>\n",
       "      <td>0.0</td>\n",
       "      <td>0.0</td>\n",
       "      <td>POINT (674000.000 660650.000)</td>\n",
       "      <td>101139.027357</td>\n",
       "      <td>NaN</td>\n",
       "      <td>NaN</td>\n",
       "    </tr>\n",
       "  </tbody>\n",
       "</table>\n",
       "<p>68 rows × 11 columns</p>\n",
       "</div>"
      ],
      "text/plain": [
       "   id_plot  SU  PSP  Avicennia_count  Rhizopora_count  Laguncularia_count  \\\n",
       "0      1_1   1    1             74.0              0.0                 0.0   \n",
       "1      1_2   1    2             75.0              0.0                 0.0   \n",
       "2      1_3   1    3             77.0              0.0                 0.0   \n",
       "3      1_4   1    4            101.0              0.0                 3.0   \n",
       "4     10_1  10    1              NaN              NaN                 NaN   \n",
       "..     ...  ..  ...              ...              ...                 ...   \n",
       "63     8_4   8    4             77.0              0.0                 0.0   \n",
       "64     9_1   9    1            253.0              0.0                 0.0   \n",
       "65     9_2   9    2            208.0              1.0                 2.0   \n",
       "66     9_3   9    3             70.0              2.0                 0.0   \n",
       "67     9_4   9    4             20.0             56.0                 0.0   \n",
       "\n",
       "    OtherSpecies_count                       geometry   dist_centrum  \\\n",
       "0                  0.0  POINT (499000.000 659150.000)   74915.986643   \n",
       "1                  0.0  POINT (499000.000 659350.000)   74939.869860   \n",
       "2                  0.0  POINT (499000.000 659550.000)   74964.279058   \n",
       "3                  0.0  POINT (499000.000 659750.000)   74989.213722   \n",
       "4                  NaN  POINT (707500.000 660650.000)  134506.910435   \n",
       "..                 ...                            ...            ...   \n",
       "63                 0.0  POINT (658000.000 661050.000)   85288.189890   \n",
       "64                 0.0  POINT (674000.000 660050.000)  101079.403118   \n",
       "65                42.0  POINT (674000.000 660250.000)  101098.886120   \n",
       "66                 0.0  POINT (674000.000 660450.000)  101118.760943   \n",
       "67                 0.0  POINT (674000.000 660650.000)  101139.027357   \n",
       "\n",
       "    index_right  DISTR_NAAM  \n",
       "0           4.0    Nickerie  \n",
       "1           4.0    Nickerie  \n",
       "2           4.0    Nickerie  \n",
       "3           4.0    Nickerie  \n",
       "4           1.0  Commewijne  \n",
       "..          ...         ...  \n",
       "63          7.0   Saramacca  \n",
       "64          7.0   Saramacca  \n",
       "65          7.0   Saramacca  \n",
       "66          7.0   Saramacca  \n",
       "67          NaN         NaN  \n",
       "\n",
       "[68 rows x 11 columns]"
      ]
     },
     "execution_count": 137,
     "metadata": {},
     "output_type": "execute_result"
    }
   ],
   "source": [
    "joined"
   ]
  },
  {
   "cell_type": "code",
   "execution_count": 138,
   "metadata": {
    "tags": []
   },
   "outputs": [
    {
     "data": {
      "text/plain": [
       "DISTR_NAAM\n",
       "Saramacca     17\n",
       "Commewijne    10\n",
       "Marowijne      9\n",
       "Nickerie       8\n",
       "Coronie        8\n",
       "Name: count, dtype: int64"
      ]
     },
     "execution_count": 138,
     "metadata": {},
     "output_type": "execute_result"
    }
   ],
   "source": [
    "joined['DISTR_NAAM'].value_counts()"
   ]
  }
 ],
 "metadata": {
  "kernelspec": {
   "display_name": "Python 3 (ipykernel)",
   "language": "python",
   "name": "python3"
  },
  "language_info": {
   "codemirror_mode": {
    "name": "ipython",
    "version": 3
   },
   "file_extension": ".py",
   "mimetype": "text/x-python",
   "name": "python",
   "nbconvert_exporter": "python",
   "pygments_lexer": "ipython3",
   "version": "3.10.11"
  },
  "widgets": {
   "application/vnd.jupyter.widget-state+json": {
    "state": {},
    "version_major": 2,
    "version_minor": 0
   }
  }
 },
 "nbformat": 4,
 "nbformat_minor": 4
}
