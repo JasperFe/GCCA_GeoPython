{
 "cells": [
  {
   "cell_type": "markdown",
   "metadata": {},
   "source": [
    "<p><font size=\"6\"><b> Basis Raster operaties en raster-vector tools</b></font></p>\n",
    "\n",
    "> *GCCA+ phase 2 - Geopyhton training*  \n",
    "> *June, 2023*\n",
    ">\n",
    "> *© 2023, Jasper Feyen  (<mailto:jasperfeyen@hotmail.com>)*\n",
    "\n",
    "---\n",
    "---"
   ]
  },
  {
   "cell_type": "markdown",
   "metadata": {
    "tags": []
   },
   "source": [
    "In het vorige notebook focusten we enkel op vectoren of raster. Uiteraard kunnen we veel meer indien we vectoren en rasters kunnen combinerenç"
   ]
  },
  {
   "cell_type": "code",
   "execution_count": null,
   "metadata": {},
   "outputs": [],
   "source": [
    "import pandas as pd\n",
    "import numpy as np\n",
    "import geopandas\n",
    "import rasterio\n",
    "\n",
    "import xarray as xr\n",
    "\n",
    "import matplotlib.pyplot as plt"
   ]
  },
  {
   "cell_type": "markdown",
   "metadata": {},
   "source": [
    "# `rioxarray`: de kracht van xarray en rasterio samen"
   ]
  },
  {
   "cell_type": "markdown",
   "metadata": {},
   "source": [
    "In de vorige notebooks hebben we al gebruik gemaakt van `rasterio` (https://rasterio.readthedocs.io/en/latest/) om rasterbestanden zoals GeoTIFFs te lezen (via de `xarray.open_dataarray(...,engine=\"rasterio\")` functie). Rasterio biedt ondersteuning voor het lezen en schrijven van georuimtelijke rastergegevens als numpy N-D arrays, voornamelijk via bindings met de GDAL-library.\n",
    "\n",
    "Daarnaast biedt rasterio een Python API om enkele GIS-rasterbewerkingen uit te voeren (clipping, masking, warping, samenvoegen, transformatie, enz.) en kan het worden gebruikt om slechts een subset van een groot dataset in het geheugen te laden. De belangrijkste complexiteit bij het gebruik van `rasterio` is echter dat de ruimtelijke informatie losgekoppeld is van de gegevens zelf (d.w.z. de numpy-array). Dit betekent dat je de omvang en metadata gedurende de bewerkingen moet bijhouden en organiseren (bijv. de \"transform\") en dat je moet bijhouden wat elke dimensie vertegenwoordigt (y-eerst, aangezien arrays eerst georganiseerd zijn langs rijen). \n",
    "\n",
    "Maak kennis met `rioxarray` (https://corteva.github.io/rioxarray/stable/index.html), dat xarray uitbreidt met georuimtelijke functionaliteiten aangedreven door rasterio.\n"
   ]
  },
  {
   "cell_type": "code",
   "execution_count": null,
   "metadata": {},
   "outputs": [],
   "source": [
    "import rioxarray"
   ]
  },
  {
   "cell_type": "code",
   "execution_count": null,
   "metadata": {},
   "outputs": [],
   "source": [
    "data_file = \"data/Sentinel_2022_example.tif\""
   ]
  },
  {
   "cell_type": "code",
   "execution_count": null,
   "metadata": {},
   "outputs": [],
   "source": [
    "data = rioxarray.open_rasterio(data_file)\n",
    "data"
   ]
  },
  {
   "cell_type": "markdown",
   "metadata": {},
   "source": [
    "De `rioxarray.open_rasterio` functie is vergelijkbaar met `xarray.open_dataarray`.\n",
    "\n",
    "Zodra `rioxarray` is geïmporteerd, biedt het een `.rio` accessor op het `xarray.DataArray` object, waarmee toegang wordt verkregen tot enkele eigenschappen van de rastergegevens:"
   ]
  },
  {
   "cell_type": "code",
   "execution_count": null,
   "metadata": {},
   "outputs": [],
   "source": [
    "data.rio.crs"
   ]
  },
  {
   "cell_type": "code",
   "execution_count": null,
   "metadata": {},
   "outputs": [],
   "source": [
    "data.rio.bounds()"
   ]
  },
  {
   "cell_type": "code",
   "execution_count": null,
   "metadata": {},
   "outputs": [],
   "source": [
    "data.rio.resolution()"
   ]
  },
  {
   "cell_type": "code",
   "execution_count": null,
   "metadata": {},
   "outputs": [],
   "source": [
    "data.rio.nodata"
   ]
  },
  {
   "cell_type": "code",
   "execution_count": null,
   "metadata": {},
   "outputs": [],
   "source": [
    "data.rio.transform()"
   ]
  },
  {
   "cell_type": "markdown",
   "metadata": {},
   "source": [
    "## Bandnamen hernoemen"
   ]
  },
  {
   "cell_type": "markdown",
   "metadata": {},
   "source": [
    "Bij het bekijken van de raster dataset, hebben we de 10 verschillende Sentinel-2 banden, deze zijn genummerd van 1 tot 10. Dit komt niet overeen met de werkelijke bandnummer van Sentinel-2 zoals die moet gegeven zijn.\n",
    "\n",
    "Zo is onze band 1 de blauwe band, wat volgens Sentinel-2 benaming eigenlijk \"Band 2\" moet zijn. Zo klopt voor elk van onze banden het gegeven bandnummer niet met de bandbenamingen. Kijken we onder de 'Attributes', zien we echter wel dat de 'long name' als metadata zit opgeslagen: de werkelijke bandnamen.\n",
    "\n",
    "Het zou dus handig zijn om deze labels toe te kennen aan onze banden, om verwarring te voorkomen. Gelukkig kan dit!"
   ]
  },
  {
   "cell_type": "code",
   "execution_count": null,
   "metadata": {
    "tags": []
   },
   "outputs": [],
   "source": [
    "# Bandnamen zitten opgeslagen onder de attributen\n",
    "data.attrs['long_name']"
   ]
  },
  {
   "cell_type": "markdown",
   "metadata": {},
   "source": [
    "We kunnen de labels toekennen met assign_coordinates:"
   ]
  },
  {
   "cell_type": "code",
   "execution_count": null,
   "metadata": {
    "tags": []
   },
   "outputs": [],
   "source": [
    "data = data.assign_coords(band=(\"band\", list(data.attrs['long_name'])))\n",
    "data"
   ]
  },
  {
   "cell_type": "markdown",
   "metadata": {},
   "source": [
    "## Reprojecting rasters"
   ]
  },
  {
   "cell_type": "markdown",
   "metadata": {},
   "source": [
    "`rioxarray` geeft toegang tot een set rasterverwerkingsfuncties van rasterio/GDAL.\n",
    "\n",
    "Een daarvan is het herschalen (transformeren en resampling) van rasters, bijvoorbeeld om naar een ander coördinatenreferentiesysteem te transformeren, naar een andere resolutie te verkleinen/vergroten, enzovoort. In al deze gevallen, bij de transformatie van een oorspronkelijk raster naar een doelraster, moeten pixelwaarden opnieuw worden berekend. Er zijn verschillende \"resampling\"methoden die hiervoor kunnen worden gebruikt: de Nearest Neighbor pixelwaarde, het gemiddelde berekenen, een (niet-)lineaire interpolatie, enzovoort..\n",
    "\n",
    "De functionaliteit is beschikbaar via de `reproject()`-methode.:\n"
   ]
  },
  {
   "cell_type": "code",
   "execution_count": null,
   "metadata": {},
   "outputs": [],
   "source": [
    "#We nemen enkel de rode, groene en blauwe band (= B4, B3, B2)\n",
    "data.sel(band = ['B4','B3','B2']).rio.crs"
   ]
  },
  {
   "cell_type": "code",
   "execution_count": null,
   "metadata": {
    "tags": []
   },
   "outputs": [],
   "source": [
    "data.sel(band = ['B4','B3','B2']).rio.reproject(\"EPSG:31370\").plot.imshow(figsize=(10,6),vmax=0.2)"
   ]
  },
  {
   "cell_type": "markdown",
   "metadata": {},
   "source": [
    "De *default* resampling methode  is \"nearest\", wat vaak geen geschikte methode is (vooral voor continue data). We kunnen de methode wijzigen met behulp van de `rasterio.enums.Resampling`-enumeratie (zie [docs](https://rasterio.readthedocs.io/en/latest/api/rasterio.enums.html#rasterio.enums.Resampling) voor een overzicht van alle methoden):"
   ]
  },
  {
   "cell_type": "code",
   "execution_count": null,
   "metadata": {},
   "outputs": [],
   "source": [
    "from rasterio.enums import Resampling"
   ]
  },
  {
   "cell_type": "code",
   "execution_count": null,
   "metadata": {},
   "outputs": [],
   "source": [
    "data.rio.reproject(\"EPSG:31370\", resampling=Resampling.bilinear).sel(band=['B4','B3','B2']).plot.imshow(figsize=(10,6),vmax = 0.2)"
   ]
  },
  {
   "cell_type": "markdown",
   "metadata": {},
   "source": [
    "Je kunt ook meteen downsamplen"
   ]
  },
  {
   "cell_type": "code",
   "execution_count": null,
   "metadata": {},
   "outputs": [],
   "source": [
    "data.rio.reproject(data.rio.crs, resolution=120, resampling=Resampling.cubic).sel(band=['B4','B3','B2']).plot.imshow(figsize=(10,6),vmax = 0.2)"
   ]
  },
  {
   "cell_type": "markdown",
   "metadata": {
    "tags": []
   },
   "source": [
    "# Clip raster by mask layer"
   ]
  },
  {
   "cell_type": "markdown",
   "metadata": {},
   "source": [
    "Binnen veel toepassingen is het studiegebied (veel) kleiner dan de gegeven rasters."
   ]
  },
  {
   "cell_type": "code",
   "execution_count": null,
   "metadata": {
    "collapsed": false,
    "jupyter": {
     "outputs_hidden": false
    }
   },
   "outputs": [],
   "source": [
    "districts = geopandas.read_file(\"./data/Suriname_districts.geojson\")\n",
    "paramaribo_district = districts[districts['DISTR_NAAM'] == 'Paramaribo']\n",
    "paramaribo_district"
   ]
  },
  {
   "cell_type": "code",
   "execution_count": null,
   "metadata": {
    "collapsed": false,
    "jupyter": {
     "outputs_hidden": false
    }
   },
   "outputs": [],
   "source": [
    "paramaribo_district.plot()"
   ]
  },
  {
   "cell_type": "code",
   "execution_count": null,
   "metadata": {},
   "outputs": [],
   "source": [
    "paramaribo_district.crs"
   ]
  },
  {
   "cell_type": "markdown",
   "metadata": {},
   "source": [
    "We moeten zorgen dat beide datasets in hetzelfde CRS staan!"
   ]
  },
  {
   "cell_type": "code",
   "execution_count": null,
   "metadata": {},
   "outputs": [],
   "source": [
    "paramaribo_district = paramaribo_district.to_crs(epsg=32621)"
   ]
  },
  {
   "cell_type": "code",
   "execution_count": null,
   "metadata": {},
   "outputs": [],
   "source": [
    "clipped = data.rio.clip(paramaribo_district.geometry)"
   ]
  },
  {
   "cell_type": "code",
   "execution_count": null,
   "metadata": {},
   "outputs": [],
   "source": [
    "fig, (ax0, ax1) = plt.subplots(ncols=2, figsize=(12,4))\n",
    "data.sel(band=['B4','B3','B2']).plot.imshow(ax=ax0, vmax = 0.2)\n",
    "paramaribo_district.plot(ax=ax0, facecolor=\"none\", edgecolor=\"red\")\n",
    "\n",
    "clipped.sel(band=['B4','B3','B2']).plot.imshow(ax=ax1, vmax = 0.2)\n",
    "paramaribo_district.plot(ax=ax1, facecolor=\"none\", edgecolor=\"red\")\n",
    "\n",
    "fig.tight_layout()"
   ]
  },
  {
   "cell_type": "markdown",
   "metadata": {
    "tags": []
   },
   "source": [
    "De bovenstaande code maakt gebruik van het `rasterio`-pakket (met de functionaliteit `mask` en `geometry_mask` / `rasterize`) onder de motorkap. Dit vereenvoudigt de bewerking in vergelijking met het direct gebruik van `rasterio`.\n",
    "\n",
    "```python\n",
    "   # cfr. The Rasterio workflow\n",
    "\n",
    "   from rasterio.mask import mask\n",
    "\n",
    "   # 1 - Open een dataset met behulp van de contextbeheerder\n",
    "   with rasterio.open(data_file) as src:\n",
    "\n",
    "    # 2 - Lees de dataset en transformeer deze door uit te snijden\n",
    "    out_image, out_transform = mask(src, paramaribo_vect.geometry, crop=True)\n",
    "\n",
    "    # 3 - Werk de ruimtelijke metadata/profiel van de dataset bij\n",
    "    paramaribo_profile = src.profile\n",
    "    paramaribo_profile.update({\"height\": out_image.shape[1],\n",
    "                              \"width\": out_image.shape[2],\n",
    "                              \"transform\": out_transform})\n",
    "    # 4 - Sla de nieuwe dataset op met de bijgewerkte metadata/profiel\n",
    "    with rasterio.open(\"./paramaribo_masked.tif\", \"w\", **paramaribo_profile) as dest:\n",
    "        dest.write(out_image)\n",
    "\n"
   ]
  },
  {
   "cell_type": "markdown",
   "metadata": {},
   "source": [
    "# Raster bewerkingen"
   ]
  },
  {
   "cell_type": "markdown",
   "metadata": {},
   "source": [
    "## Reducties & element-gewijze berekeningen"
   ]
  },
  {
   "cell_type": "code",
   "execution_count": null,
   "metadata": {
    "tags": []
   },
   "outputs": [],
   "source": [
    "paramaribo = xr.open_dataarray( \"data/Sentinel_2022_example.tif\", engine=\"rasterio\")\n",
    "paramaribo = paramaribo.assign_coords(band=(\"band\", list(paramaribo.attrs['long_name'])))\n",
    "paramaribo_red = paramaribo.sel(band=\"B4\")"
   ]
  },
  {
   "cell_type": "markdown",
   "metadata": {},
   "source": [
    "### Reducties"
   ]
  },
  {
   "cell_type": "markdown",
   "metadata": {},
   "source": [
    "De __reductie__ (aggregaties) worden aangeboden als methoden en kunnen worden toegepast langs één of meerdere dimensies van de gegevens."
   ]
  },
  {
   "cell_type": "markdown",
   "metadata": {},
   "source": [
    "Standaard wordt een array gereduceerd over *alle* dimensies, waarbij een enkele waarde als ouput wordt gegeven als een DataArray:"
   ]
  },
  {
   "cell_type": "code",
   "execution_count": null,
   "metadata": {
    "tags": []
   },
   "outputs": [],
   "source": [
    "paramaribo_red.mean()"
   ]
  },
  {
   "cell_type": "markdown",
   "metadata": {},
   "source": [
    "In NumPy, deze dimenties worden __axis__ genoemd:"
   ]
  },
  {
   "cell_type": "code",
   "execution_count": null,
   "metadata": {
    "tags": []
   },
   "outputs": [],
   "source": [
    "paramaribo_red.mean(axis=1)"
   ]
  },
  {
   "cell_type": "markdown",
   "metadata": {},
   "source": [
    "Maar we hebben dimensies met labels (zoals 'X', en 'Y'), dus in plaats van reducties uit te voeren op assen (zoals in NumPy), kunnen we ze uitvoeren op de dimensies (x of y as). Dit is handiger:"
   ]
  },
  {
   "cell_type": "code",
   "execution_count": null,
   "metadata": {
    "tags": []
   },
   "outputs": [],
   "source": [
    "paramaribo_red.mean(dim=\"x\")"
   ]
  },
  {
   "cell_type": "markdown",
   "metadata": {},
   "source": [
    "Berekenen van gemiddelde per as"
   ]
  },
  {
   "cell_type": "code",
   "execution_count": null,
   "metadata": {
    "collapsed": false,
    "jupyter": {
     "outputs_hidden": false
    },
    "tags": []
   },
   "outputs": [],
   "source": [
    "paramaribo.mean(dim=[\"x\", \"y\"])  #  'neem het gemiddelde over de x- en y- as samen)"
   ]
  },
  {
   "cell_type": "markdown",
   "metadata": {},
   "source": [
    "### Elementsgewijze berekeningen"
   ]
  },
  {
   "cell_type": "markdown",
   "metadata": {},
   "source": [
    "In Xarray kun je gemakkelijk elementswijze berekingen uitvoeren. In onderstaand voorbeeld vermenigvuldig je dus **elke** pixel in de rode band met 10"
   ]
  },
  {
   "cell_type": "code",
   "execution_count": null,
   "metadata": {
    "collapsed": false,
    "jupyter": {
     "outputs_hidden": false
    },
    "tags": []
   },
   "outputs": [],
   "source": [
    "paramaribo_red * 10."
   ]
  },
  {
   "cell_type": "markdown",
   "metadata": {},
   "source": [
    "Indien we meerdere banden met elkaar combineren, gebeurt ook dit elementgewijs; "
   ]
  },
  {
   "cell_type": "code",
   "execution_count": null,
   "metadata": {
    "collapsed": false,
    "jupyter": {
     "outputs_hidden": false
    },
    "tags": []
   },
   "outputs": [],
   "source": [
    "paramaribo.sel(band=\"B4\") - paramaribo.sel(band=\"B3\")"
   ]
  },
  {
   "cell_type": "markdown",
   "metadata": {},
   "source": [
    "### Oefenen dan maar!"
   ]
  },
  {
   "cell_type": "markdown",
   "metadata": {},
   "source": [
    "<div class=\"alert alert-success\">\n",
    "\n",
    "**OEFENING**:\n",
    "\n",
    "Op basis van onze verschillende banden in het Sentinel-beeld, kunnen we de NDVI berekenen. Deze wordt berekend op basis van band 8 en band 4:\n",
    "    \n",
    "$$\\frac{band_8 - band_4}{band_8 + band_4} $$\n",
    "    \n",
    "Maak gebruik van de Paramaribo-set:\n",
    "    \n",
    "- Zorg er eerst voor dat de verschillende banden hun correcte naam meekrijgen. \n",
    "- Bereken de NDVI, sla deze op als een nieuwe variabele: paramaribo_ndvi\n",
    "- Maak een visualitie. Gebruik \"Greens\" als colormap. \n",
    "\n",
    "\n",
    "           \n",
    "</div>"
   ]
  },
  {
   "cell_type": "code",
   "execution_count": null,
   "metadata": {
    "tags": []
   },
   "outputs": [],
   "source": [
    "paramaribo"
   ]
  },
  {
   "cell_type": "code",
   "execution_count": null,
   "metadata": {
    "tags": []
   },
   "outputs": [],
   "source": [
    "ndvi = (paramaribo.sel(band = 'B8') - paramaribo.sel(band = 'B4'))/(paramaribo.sel(band = 'B8') + paramaribo.sel(band='B4'))"
   ]
  },
  {
   "cell_type": "code",
   "execution_count": null,
   "metadata": {
    "tags": []
   },
   "outputs": [],
   "source": [
    "ndvi.plot.imshow(figsize=(10,6),cmap = 'Greens',vmin=0.5,vmax=1)"
   ]
  },
  {
   "cell_type": "markdown",
   "metadata": {},
   "source": [
    "### Convert vector to raster"
   ]
  },
  {
   "cell_type": "markdown",
   "metadata": {},
   "source": [
    "To create a raster with the vector \"burned in\", we can use the `rasterio.features.rasterize` function. This expects a list of (shape, value) tuples, and an output image shape and transform. Here, we will create a new raster image with the same shape and extent as the DEM above. And we first take a buffer of the river lines:"
   ]
  },
  {
   "cell_type": "code",
   "execution_count": null,
   "metadata": {},
   "outputs": [],
   "source": [
    "import rasterio.features"
   ]
  },
  {
   "cell_type": "code",
   "execution_count": null,
   "metadata": {},
   "outputs": [],
   "source": [
    "segments_buffered = segments.geometry.buffer(100)\n",
    "img = rasterio.features.rasterize(\n",
    "    segments_buffered, \n",
    "    out_shape=clipped.shape, \n",
    "    transform=clipped.rio.transform())"
   ]
  },
  {
   "cell_type": "code",
   "execution_count": null,
   "metadata": {},
   "outputs": [],
   "source": [
    "img"
   ]
  },
  {
   "cell_type": "code",
   "execution_count": null,
   "metadata": {},
   "outputs": [],
   "source": [
    "fig, (ax0, ax1) = plt.subplots(1, 2)\n",
    "ax0.imshow(img)\n",
    "ax1.imshow(clipped.values - img*20, vmin=0, cmap=\"terrain\") # just as an example\n",
    "fig.tight_layout()"
   ]
  },
  {
   "cell_type": "markdown",
   "metadata": {
    "tags": []
   },
   "source": [
    "# Raster statistieken\n",
    "\n",
    "The **rasterstats** package provides methods to calculate summary statistics of geospatial raster datasets based on vector geometries (https://github.com/perrygeo/python-rasterstats)"
   ]
  },
  {
   "cell_type": "markdown",
   "metadata": {},
   "source": [
    "Under c"
   ]
  },
  {
   "cell_type": "markdown",
   "metadata": {},
   "source": [
    "To illustrate this, we are reading a raster file with elevation data of the full world (the file contains a single band for the elevation, save the file in the `data` subdirectory; [download link](https://www.eea.europa.eu/data-and-maps/data/world-digital-elevation-model-etopo5/zipped-dem-geotiff-raster-geographic-tag-image-file-format-raster-data/zipped-dem-geotiff-raster-geographic-tag-image-file-format-raster-data/at_download/file)):"
   ]
  },
  {
   "cell_type": "code",
   "execution_count": null,
   "metadata": {},
   "outputs": [],
   "source": [
    "countries = geopandas.read_file(\"./data/ne_110m_admin_0_countries.zip\")\n",
    "cities = geopandas.read_file(\"./data/ne_110m_populated_places.zip\")"
   ]
  },
  {
   "cell_type": "code",
   "execution_count": null,
   "metadata": {},
   "outputs": [],
   "source": [
    "dem_geotiff = \"data/DEM_geotiff/alwdgg.tif\""
   ]
  },
  {
   "cell_type": "code",
   "execution_count": null,
   "metadata": {},
   "outputs": [],
   "source": [
    "img = xr.open_dataarray(dem_geotiff).sel(band=1).plot.imshow(cmap=\"terrain\", figsize=(10, 4), )\n",
    "img.axes.set_aspect(\"equal\")"
   ]
  },
  {
   "cell_type": "markdown",
   "metadata": {},
   "source": [
    "Given this raster of the elevation, we might want to know the elevation at a certain location or for each country.\n",
    "For the countries example, we want to extract the pixel values that fall within a country polygon, and calculate a statistic for it, such as the mean or the maximum.\n",
    "\n",
    "Such functionality to extract information from a raster for given vector data is provided by the rasterstats package."
   ]
  },
  {
   "cell_type": "code",
   "execution_count": null,
   "metadata": {},
   "outputs": [],
   "source": [
    "import rasterstats"
   ]
  },
  {
   "cell_type": "markdown",
   "metadata": {},
   "source": [
    "For extracting the pixel values for polygons, we use the `zonal_stats` function, passing it the GeoSeries, the path to the raster file, and the method to compute the statistics."
   ]
  },
  {
   "cell_type": "code",
   "execution_count": null,
   "metadata": {},
   "outputs": [],
   "source": [
    "result = rasterstats.zonal_stats(countries.geometry, dem_geotiff,\n",
    "                                 stats=['min', 'mean', 'max'], \n",
    "                                 nodata=-999)"
   ]
  },
  {
   "cell_type": "markdown",
   "metadata": {},
   "source": [
    "The results can be assigned to new columns:"
   ]
  },
  {
   "cell_type": "code",
   "execution_count": null,
   "metadata": {},
   "outputs": [],
   "source": [
    "countries[['min', 'max', 'mean']] = pd.DataFrame(result)"
   ]
  },
  {
   "cell_type": "code",
   "execution_count": null,
   "metadata": {},
   "outputs": [],
   "source": [
    "countries.head()"
   ]
  },
  {
   "cell_type": "markdown",
   "metadata": {},
   "source": [
    "And then we can sort by the average elevation of the country:"
   ]
  },
  {
   "cell_type": "code",
   "execution_count": null,
   "metadata": {},
   "outputs": [],
   "source": [
    "countries.sort_values('mean', ascending=False).head()"
   ]
  },
  {
   "cell_type": "markdown",
   "metadata": {},
   "source": [
    "For points, a similar function called `point_query` can be used (specifying the interpolation method):"
   ]
  },
  {
   "cell_type": "code",
   "execution_count": null,
   "metadata": {},
   "outputs": [],
   "source": [
    "cities[\"elevation\"] = rasterstats.point_query(cities.geometry, \n",
    "                                              dem_geotiff, interpolate='bilinear',\n",
    "                                              nodata=-999)"
   ]
  },
  {
   "cell_type": "code",
   "execution_count": null,
   "metadata": {},
   "outputs": [],
   "source": [
    "cities.sort_values(by=\"elevation\", ascending=False).head()"
   ]
  },
  {
   "cell_type": "markdown",
   "metadata": {},
   "source": [
    "Thanks to https://geohackweek.github.io/raster/04-workingwithrasters/ for the inspiration"
   ]
  }
 ],
 "metadata": {
  "jupytext": {
   "cell_metadata_filter": "-run_control,-deletable,-editable,-jupyter,-slideshow"
  },
  "kernelspec": {
   "display_name": "Python 3 (ipykernel)",
   "language": "python",
   "name": "python3"
  },
  "language_info": {
   "codemirror_mode": {
    "name": "ipython",
    "version": 3
   },
   "file_extension": ".py",
   "mimetype": "text/x-python",
   "name": "python",
   "nbconvert_exporter": "python",
   "pygments_lexer": "ipython3",
   "version": "3.10.11"
  },
  "widgets": {
   "application/vnd.jupyter.widget-state+json": {
    "state": {},
    "version_major": 2,
    "version_minor": 0
   }
  }
 },
 "nbformat": 4,
 "nbformat_minor": 4
}
